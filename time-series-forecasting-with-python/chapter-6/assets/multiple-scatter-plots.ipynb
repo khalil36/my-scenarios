{
 "cells": [
  {
   "cell_type": "code",
   "execution_count": null,
   "metadata": {},
   "outputs": [],
   "source": [
    "# create multiple scatter plots\n",
    "from pandas import read_csv\n",
    "from pandas import DataFrame\n",
    "from pandas import concat\n",
    "from matplotlib import pyplot\n",
    "series = read_csv('routine-heat.csv', header=0, index_col=0, parse_dates=True, squeeze=True)\n",
    "values = DataFrame(series.values)\n",
    "lags = 8\n",
    "columns = [values]\n",
    "for i in range(1,(lags + 1)):\n",
    "\tcolumns.append(values.shift(i))\n",
    "dataframe = concat(columns, axis=1)\n",
    "columns = ['t']\n",
    "for i in range(1,(lags + 1)):\n",
    "\tcolumns.append('t-' + str(i))\n",
    "dataframe.columns = columns\n",
    "pyplot.figure(1)\n",
    "for i in range(1,(lags + 1)):\n",
    "\tax = pyplot.subplot(240 + i)\n",
    "\tax.set_title('t vs t-' + str(i))\n",
    "\tpyplot.scatter(x=dataframe['t'].values, y=dataframe['t-'+str(i)].values)\n",
    "pyplot.show()"
   ]
  },
  {
   "cell_type": "code",
   "execution_count": null,
   "metadata": {},
   "outputs": [],
   "source": []
  },
  {
   "cell_type": "code",
   "execution_count": null,
   "metadata": {},
   "outputs": [],
   "source": []
  }
 ],
 "metadata": {
  "kernelspec": {
   "display_name": "Python 3",
   "language": "python",
   "name": "python3"
  },
  "language_info": {
   "codemirror_mode": {
    "name": "ipython",
    "version": 3
   },
   "file_extension": ".py",
   "mimetype": "text/x-python",
   "name": "python",
   "nbconvert_exporter": "python",
   "pygments_lexer": "ipython3",
   "version": "3.7.3"
  }
 },
 "nbformat": 4,
 "nbformat_minor": 2
}
