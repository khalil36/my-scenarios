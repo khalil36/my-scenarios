{
 "cells": [
  {
   "cell_type": "code",
   "execution_count": null,
   "metadata": {},
   "outputs": [],
   "source": [
    "# calculate repeated train-test splits of time series data\n",
    "from pandas import read_csv\n",
    "from sklearn.model_selection import TimeSeriesSplit\n",
    "from matplotlib import pyplot\n",
    "series = read_csv('solar-places.csv', header=0, index_col=0, parse_dates=True, squeeze=True)\n",
    "X = series.values\n",
    "splits = TimeSeriesSplit(n_splits=3)\n",
    "pyplot.figure(1)\n",
    "index = 1\n",
    "for train_index, test_index in splits.split(X):\n",
    "\ttrain = X[train_index]\n",
    "\ttest = X[test_index]\n",
    "\tprint('Observations: %d' % (len(train) + len(test)))\n",
    "\tprint('Training Observations: %d' % (len(train)))\n",
    "\tprint('Testing Observations: %d' % (len(test)))\n",
    "\tpyplot.subplot(310 + index)\n",
    "\tpyplot.plot(train)\n",
    "\tpyplot.plot([None for i in train] + [x for x in test])\n",
    "\tindex += 1\n",
    "pyplot.show()"
   ]
  },
  {
   "cell_type": "code",
   "execution_count": null,
   "metadata": {},
   "outputs": [],
   "source": []
  },
  {
   "cell_type": "code",
   "execution_count": null,
   "metadata": {},
   "outputs": [],
   "source": []
  }
 ],
 "metadata": {
  "kernelspec": {
   "display_name": "Python 3",
   "language": "python",
   "name": "python3"
  },
  "language_info": {
   "codemirror_mode": {
    "name": "ipython",
    "version": 3
   },
   "file_extension": ".py",
   "mimetype": "text/x-python",
   "name": "python",
   "nbconvert_exporter": "python",
   "pygments_lexer": "ipython3",
   "version": "3.7.3"
  }
 },
 "nbformat": 4,
 "nbformat_minor": 2
}
