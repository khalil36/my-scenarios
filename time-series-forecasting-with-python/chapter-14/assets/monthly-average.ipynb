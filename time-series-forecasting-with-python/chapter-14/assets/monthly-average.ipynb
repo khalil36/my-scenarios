{
 "cells": [
  {
   "cell_type": "code",
   "execution_count": null,
   "metadata": {},
   "outputs": [],
   "source": [
    "# calculate and plot monthly average\n",
    "from pandas import read_csv\n",
    "from matplotlib import pyplot\n",
    "series = read_csv('routine-heat.csv', header=0, index_col=0, parse_dates=True, squeeze=True)\n",
    "resample = series.resample('M')\n",
    "monthly_mean = resample.mean()\n",
    "print(monthly_mean.head(13))\n",
    "monthly_mean.plot()\n",
    "pyplot.show()"
   ]
  },
  {
   "cell_type": "code",
   "execution_count": null,
   "metadata": {},
   "outputs": [],
   "source": []
  },
  {
   "cell_type": "code",
   "execution_count": null,
   "metadata": {},
   "outputs": [],
   "source": []
  }
 ],
 "metadata": {
  "kernelspec": {
   "display_name": "Python 3",
   "language": "python",
   "name": "python3"
  },
  "language_info": {
   "codemirror_mode": {
    "name": "ipython",
    "version": 3
   },
   "file_extension": ".py",
   "mimetype": "text/x-python",
   "name": "python",
   "nbconvert_exporter": "python",
   "pygments_lexer": "ipython3",
   "version": "3.7.3"
  }
 },
 "nbformat": 4,
 "nbformat_minor": 2
}
