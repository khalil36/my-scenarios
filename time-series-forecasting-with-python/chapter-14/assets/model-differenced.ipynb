{
 "cells": [
  {
   "cell_type": "code",
   "execution_count": null,
   "metadata": {},
   "outputs": [],
   "source": [
    "# deseasonalize by differencing with a polynomial model\n",
    "from pandas import read_csv\n",
    "from matplotlib import pyplot\n",
    "from numpy import polyfit\n",
    "series = read_csv('routine-heat.csv', header=0, index_col=0, parse_dates=True, squeeze=True)\n",
    "# fit polynomial: x^2*b1 + x*b2 + ... + bn\n",
    "X = [i%365 for i in range(0, len(series))]\n",
    "y = series.values\n",
    "degree = 4\n",
    "coef = polyfit(X, y, degree)\n",
    "# create curve\n",
    "curve = list()\n",
    "for i in range(len(X)):\n",
    "\tvalue = coef[-1]\n",
    "\tfor d in range(degree):\n",
    "\t\tvalue += X[i]**(degree-d) * coef[d]\n",
    "\tcurve.append(value)\n",
    "# create seasonally adjusted\n",
    "values = series.values\n",
    "diff = list()\n",
    "for i in range(len(values)):\n",
    "\tvalue = values[i] - curve[i]\n",
    "\tdiff.append(value)\n",
    "pyplot.plot(diff)\n",
    "pyplot.show()"
   ]
  },
  {
   "cell_type": "code",
   "execution_count": null,
   "metadata": {},
   "outputs": [],
   "source": []
  },
  {
   "cell_type": "code",
   "execution_count": null,
   "metadata": {},
   "outputs": [],
   "source": []
  }
 ],
 "metadata": {
  "kernelspec": {
   "display_name": "Python 3",
   "language": "python",
   "name": "python3"
  },
  "language_info": {
   "codemirror_mode": {
    "name": "ipython",
    "version": 3
   },
   "file_extension": ".py",
   "mimetype": "text/x-python",
   "name": "python",
   "nbconvert_exporter": "python",
   "pygments_lexer": "ipython3",
   "version": "3.7.3"
  }
 },
 "nbformat": 4,
 "nbformat_minor": 2
}
