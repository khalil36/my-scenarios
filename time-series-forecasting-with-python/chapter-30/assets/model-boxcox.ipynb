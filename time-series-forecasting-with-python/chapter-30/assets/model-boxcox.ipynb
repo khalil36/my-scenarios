{
 "cells": [
  {
   "cell_type": "code",
   "execution_count": null,
   "metadata": {},
   "outputs": [],
   "source": [
    "# plots of box-cox transformed dataset\n",
    "from pandas import read_csv\n",
    "from scipy.stats import boxcox\n",
    "from matplotlib import pyplot\n",
    "from statsmodels.graphics.gofplots import qqplot\n",
    "series = read_csv('dataset.csv', header=None, index_col=0, parse_dates=True, squeeze=True)\n",
    "X = series.values\n",
    "transformed, lam = boxcox(X)\n",
    "print('Lambda: %f' % lam)\n",
    "pyplot.figure(1)\n",
    "# line plot\n",
    "pyplot.subplot(311)\n",
    "pyplot.plot(transformed)\n",
    "# histogram\n",
    "pyplot.subplot(312)\n",
    "pyplot.hist(transformed)\n",
    "# q-q plot\n",
    "pyplot.subplot(313)\n",
    "qqplot(transformed, line='r', ax=pyplot.gca())\n",
    "pyplot.show()"
   ]
  },
  {
   "cell_type": "code",
   "execution_count": null,
   "metadata": {},
   "outputs": [],
   "source": []
  },
  {
   "cell_type": "code",
   "execution_count": null,
   "metadata": {},
   "outputs": [],
   "source": []
  }
 ],
 "metadata": {
  "kernelspec": {
   "display_name": "Python 3",
   "language": "python",
   "name": "python3"
  },
  "language_info": {
   "codemirror_mode": {
    "name": "ipython",
    "version": 3
   },
   "file_extension": ".py",
   "mimetype": "text/x-python",
   "name": "python",
   "nbconvert_exporter": "python",
   "pygments_lexer": "ipython3",
   "version": "3.7.3"
  }
 },
 "nbformat": 4,
 "nbformat_minor": 2
}
