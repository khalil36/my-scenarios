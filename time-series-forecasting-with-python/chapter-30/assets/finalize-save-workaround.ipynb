{
 "cells": [
  {
   "cell_type": "code",
   "execution_count": null,
   "metadata": {},
   "outputs": [],
   "source": [
    "# finalize model and save to file with workaround\n",
    "from pandas import read_csv\n",
    "from statsmodels.tsa.arima_model import ARIMA\n",
    "from scipy.stats import boxcox\n",
    "import numpy\n",
    "\n",
    "# monkey patch around bug in ARIMA class\n",
    "def __getnewargs__(self):\n",
    "\treturn ((self.endog),(self.k_lags, self.k_diff, self.k_ma))\n",
    "\n",
    "ARIMA.__getnewargs__ = __getnewargs__\n",
    "\n",
    "# load data\n",
    "series = read_csv('dataset.csv', header=None, index_col=0, parse_dates=True, squeeze=True)\n",
    "# prepare data\n",
    "X = series.values\n",
    "X = X.astype('float32')\n",
    "# transform data\n",
    "transformed, lam = boxcox(X)\n",
    "# fit model\n",
    "model = ARIMA(transformed, order=(0,1,2))\n",
    "model_fit = model.fit(disp=0)\n",
    "# save model\n",
    "model_fit.save('model.pkl')\n",
    "numpy.save('model_lambda.npy', [lam])"
   ]
  },
  {
   "cell_type": "code",
   "execution_count": null,
   "metadata": {},
   "outputs": [],
   "source": []
  },
  {
   "cell_type": "code",
   "execution_count": null,
   "metadata": {},
   "outputs": [],
   "source": []
  }
 ],
 "metadata": {
  "kernelspec": {
   "display_name": "Python 3",
   "language": "python",
   "name": "python3"
  },
  "language_info": {
   "codemirror_mode": {
    "name": "ipython",
    "version": 3
   },
   "file_extension": ".py",
   "mimetype": "text/x-python",
   "name": "python",
   "nbconvert_exporter": "python",
   "pygments_lexer": "ipython3",
   "version": "3.7.3"
  }
 },
 "nbformat": 4,
 "nbformat_minor": 2
}
