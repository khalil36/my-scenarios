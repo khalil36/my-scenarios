{
 "cells": [
  {
   "cell_type": "code",
   "execution_count": null,
   "metadata": {},
   "outputs": [],
   "source": [
    "# load a coefficients and from file and make a manual prediction\n",
    "import numpy\n",
    "\n",
    "def predict(coef, history):\n",
    "\tyhat = coef[0]\n",
    "\tfor i in range(1, len(coef)):\n",
    "\t\tyhat += coef[i] * history[-i]\n",
    "\treturn yhat\n",
    "\n",
    "# load model\n",
    "coef = numpy.load('man_model.npy')\n",
    "lag = numpy.load('man_data.npy')\n",
    "last_ob = numpy.load('man_obs.npy')\n",
    "# make prediction\n",
    "prediction = predict(coef, lag)\n",
    "# transform prediction\n",
    "yhat = prediction + last_ob[0]\n",
    "print('Prediction: %f' % yhat)"
   ]
  },
  {
   "cell_type": "code",
   "execution_count": null,
   "metadata": {},
   "outputs": [],
   "source": []
  },
  {
   "cell_type": "code",
   "execution_count": null,
   "metadata": {},
   "outputs": [],
   "source": []
  }
 ],
 "metadata": {
  "kernelspec": {
   "display_name": "Python 3",
   "language": "python",
   "name": "python3"
  },
  "language_info": {
   "codemirror_mode": {
    "name": "ipython",
    "version": 3
   },
   "file_extension": ".py",
   "mimetype": "text/x-python",
   "name": "python",
   "nbconvert_exporter": "python",
   "pygments_lexer": "ipython3",
   "version": "3.7.3"
  }
 },
 "nbformat": 4,
 "nbformat_minor": 2
}
