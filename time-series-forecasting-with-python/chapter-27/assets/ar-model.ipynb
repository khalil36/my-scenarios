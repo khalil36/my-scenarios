{
 "cells": [
  {
   "cell_type": "code",
   "execution_count": null,
   "metadata": {},
   "outputs": [],
   "source": [
    "# fit and evaluate an AR model\n",
    "from pandas import read_csv\n",
    "from matplotlib import pyplot\n",
    "from statsmodels.tsa.ar_model import AR\n",
    "from sklearn.metrics import mean_squared_error\n",
    "import numpy\n",
    "from math import sqrt\n",
    "\n",
    "# create a difference transform of the dataset\n",
    "def difference(dataset):\n",
    "\tdiff = list()\n",
    "\tfor i in range(1, len(dataset)):\n",
    "\t\tvalue = dataset[i] - dataset[i - 1]\n",
    "\t\tdiff.append(value)\n",
    "\treturn numpy.array(diff)\n",
    "\n",
    "# Make a prediction give regression coefficients and lag obs\n",
    "def predict(coef, history):\n",
    "\tyhat = coef[0]\n",
    "\tfor i in range(1, len(coef)):\n",
    "\t\tyhat += coef[i] * history[-i]\n",
    "\treturn yhat\n",
    "\n",
    "series = read_csv('routine-births.csv', header=0, index_col=0, parse_dates=True, squeeze=True)\n",
    "# split dataset\n",
    "X = difference(series.values)\n",
    "size = int(len(X) * 0.66)\n",
    "train, test = X[0:size], X[size:]\n",
    "# train autoregression\n",
    "model = AR(train)\n",
    "model_fit = model.fit(maxlag=6, disp=False)\n",
    "window = model_fit.k_ar\n",
    "coef = model_fit.params\n",
    "# walk forward over time steps in test\n",
    "history = [train[i] for i in range(len(train))]\n",
    "predictions = list()\n",
    "for t in range(len(test)):\n",
    "\tyhat = predict(coef, history)\n",
    "\tobs = test[t]\n",
    "\tpredictions.append(yhat)\n",
    "\thistory.append(obs)\n",
    "rmse = sqrt(mean_squared_error(test, predictions))\n",
    "print('Test RMSE: %.3f' % rmse)\n",
    "# plot\n",
    "pyplot.plot(test)\n",
    "pyplot.plot(predictions, color='red')\n",
    "pyplot.show()"
   ]
  },
  {
   "cell_type": "code",
   "execution_count": null,
   "metadata": {},
   "outputs": [],
   "source": []
  },
  {
   "cell_type": "code",
   "execution_count": null,
   "metadata": {},
   "outputs": [],
   "source": []
  }
 ],
 "metadata": {
  "kernelspec": {
   "display_name": "Python 3",
   "language": "python",
   "name": "python3"
  },
  "language_info": {
   "codemirror_mode": {
    "name": "ipython",
    "version": 3
   },
   "file_extension": ".py",
   "mimetype": "text/x-python",
   "name": "python",
   "nbconvert_exporter": "python",
   "pygments_lexer": "ipython3",
   "version": "3.7.3"
  }
 },
 "nbformat": 4,
 "nbformat_minor": 2
}
