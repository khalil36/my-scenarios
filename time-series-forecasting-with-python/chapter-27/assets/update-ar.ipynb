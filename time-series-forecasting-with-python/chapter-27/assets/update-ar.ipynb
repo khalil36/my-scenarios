{
 "cells": [
  {
   "cell_type": "code",
   "execution_count": null,
   "metadata": {},
   "outputs": [],
   "source": [
    "# update the data for the AR model with a new obs\n",
    "import numpy\n",
    "# get real observation\n",
    "observation = 48\n",
    "# load the saved data\n",
    "data = numpy.load('ar_data.npy')\n",
    "last_ob = numpy.load('ar_obs.npy')\n",
    "# update and save differenced observation\n",
    "diffed = observation - last_ob[0]\n",
    "data = numpy.append(data, [diffed], axis=0)\n",
    "numpy.save('ar_data.npy', data)\n",
    "# update and save real observation\n",
    "last_ob[0] = observation\n",
    "numpy.save('ar_obs.npy', last_ob)"
   ]
  },
  {
   "cell_type": "code",
   "execution_count": null,
   "metadata": {},
   "outputs": [],
   "source": []
  },
  {
   "cell_type": "code",
   "execution_count": null,
   "metadata": {},
   "outputs": [],
   "source": []
  }
 ],
 "metadata": {
  "kernelspec": {
   "display_name": "Python 3",
   "language": "python",
   "name": "python3"
  },
  "language_info": {
   "codemirror_mode": {
    "name": "ipython",
    "version": 3
   },
   "file_extension": ".py",
   "mimetype": "text/x-python",
   "name": "python",
   "nbconvert_exporter": "python",
   "pygments_lexer": "ipython3",
   "version": "3.7.3"
  }
 },
 "nbformat": 4,
 "nbformat_minor": 2
}
