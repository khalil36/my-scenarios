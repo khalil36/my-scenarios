{
 "cells": [
  {
   "cell_type": "code",
   "execution_count": null,
   "metadata": {},
   "outputs": [],
   "source": [
    "# plot the confidence intervals for an ARIMA forecast\n",
    "from pandas import read_csv\n",
    "from matplotlib import pyplot\n",
    "from statsmodels.tsa.arima_model import ARIMA\n",
    "# load data\n",
    "series = read_csv('routine-births.csv', header=0, index_col=0, parse_dates=True, squeeze=True)\n",
    "# split into train and test sets\n",
    "X = series.values\n",
    "X = X.astype('float32')\n",
    "size = len(X) - 1\n",
    "train, test = X[0:size], X[size:]\n",
    "# fit an ARIMA model\n",
    "model = ARIMA(train, order=(5,1,1))\n",
    "model_fit = model.fit(disp=False)\n",
    "# plot some history and the forecast with confidence intervals\n",
    "model_fit.plot_predict(len(train)-10, len(train)+1)\n",
    "pyplot.legend(loc='upper left')\n",
    "pyplot.show()"
   ]
  },
  {
   "cell_type": "code",
   "execution_count": null,
   "metadata": {},
   "outputs": [],
   "source": []
  },
  {
   "cell_type": "code",
   "execution_count": null,
   "metadata": {},
   "outputs": [],
   "source": []
  }
 ],
 "metadata": {
  "kernelspec": {
   "display_name": "Python 3",
   "language": "python",
   "name": "python3"
  },
  "language_info": {
   "codemirror_mode": {
    "name": "ipython",
    "version": 3
   },
   "file_extension": ".py",
   "mimetype": "text/x-python",
   "name": "python",
   "nbconvert_exporter": "python",
   "pygments_lexer": "ipython3",
   "version": "3.7.3"
  }
 },
 "nbformat": 4,
 "nbformat_minor": 2
}
