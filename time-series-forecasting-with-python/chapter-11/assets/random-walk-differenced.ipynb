{
 "cells": [
  {
   "cell_type": "code",
   "execution_count": null,
   "metadata": {},
   "outputs": [],
   "source": [
    "# calculate and plot a differenced random walk\n",
    "from random import seed\n",
    "from random import random\n",
    "from matplotlib import pyplot\n",
    "# create random walk\n",
    "seed(0)\n",
    "random_walk = list()\n",
    "random_walk.append(-1 if random() < 0.5 else 1)\n",
    "for i in range(1, 100):\n",
    "\tmovement = -1 if random() < 0.5 else 1\n",
    "\tvalue = random_walk[i-1] + movement\n",
    "\trandom_walk.append(value)\n",
    "# take difference\n",
    "diff = list()\n",
    "for i in range(1, len(random_walk)):\n",
    "\tvalue = random_walk[i] - random_walk[i - 1]\n",
    "\tdiff.append(value)\n",
    "# line plot\n",
    "pyplot.plot(diff)\n",
    "pyplot.show()"
   ]
  },
  {
   "cell_type": "code",
   "execution_count": null,
   "metadata": {},
   "outputs": [],
   "source": []
  },
  {
   "cell_type": "code",
   "execution_count": null,
   "metadata": {},
   "outputs": [],
   "source": []
  }
 ],
 "metadata": {
  "kernelspec": {
   "display_name": "Python 3",
   "language": "python",
   "name": "python3"
  },
  "language_info": {
   "codemirror_mode": {
    "name": "ipython",
    "version": 3
   },
   "file_extension": ".py",
   "mimetype": "text/x-python",
   "name": "python",
   "nbconvert_exporter": "python",
   "pygments_lexer": "ipython3",
   "version": "3.7.3"
  }
 },
 "nbformat": 4,
 "nbformat_minor": 2
}
