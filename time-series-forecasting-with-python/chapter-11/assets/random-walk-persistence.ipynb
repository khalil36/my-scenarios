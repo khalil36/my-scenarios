{
 "cells": [
  {
   "cell_type": "code",
   "execution_count": null,
   "metadata": {},
   "outputs": [],
   "source": [
    "# persistence forecasts for a random walk\n",
    "from random import seed\n",
    "from random import random\n",
    "from sklearn.metrics import mean_squared_error\n",
    "from math import sqrt\n",
    "# generate the random walk\n",
    "seed(0)\n",
    "random_walk = list()\n",
    "random_walk.append(-1 if random() < 0.5 else 1)\n",
    "for i in range(1, 100):\n",
    "\tmovement = -1 if random() < 0.5 else 1\n",
    "\tvalue = random_walk[i-1] + movement\n",
    "\trandom_walk.append(value)\n",
    "# prepare dataset\n",
    "train_size = int(len(random_walk) * 0.66)\n",
    "train, test = random_walk[0:train_size], random_walk[train_size:]\n",
    "# persistence\n",
    "predictions = list()\n",
    "history = train[-2]\n",
    "for i in range(len(test)):\n",
    "\tyhat = history\n",
    "\tpredictions.append(yhat)\n",
    "\thistory = test[i]\n",
    "rmse = sqrt(mean_squared_error(test, predictions))\n",
    "print('Persistence RMSE: %.3f' % rmse)"
   ]
  },
  {
   "cell_type": "code",
   "execution_count": null,
   "metadata": {},
   "outputs": [],
   "source": []
  },
  {
   "cell_type": "code",
   "execution_count": null,
   "metadata": {},
   "outputs": [],
   "source": []
  }
 ],
 "metadata": {
  "kernelspec": {
   "display_name": "Python 3",
   "language": "python",
   "name": "python3"
  },
  "language_info": {
   "codemirror_mode": {
    "name": "ipython",
    "version": 3
   },
   "file_extension": ".py",
   "mimetype": "text/x-python",
   "name": "python",
   "nbconvert_exporter": "python",
   "pygments_lexer": "ipython3",
   "version": "3.7.3"
  }
 },
 "nbformat": 4,
 "nbformat_minor": 2
}
