{
 "cells": [
  {
   "cell_type": "code",
   "execution_count": null,
   "metadata": {},
   "outputs": [],
   "source": [
    "# numpy crash course\n",
    "\n",
    "# define an array\n",
    "import numpy\n",
    "listing = [10, 20, 30, 40]\n",
    "array = numpy.array(listing)\n",
    "print(array)\n",
    "print(array.shape)\n",
    "\n",
    "# access values\n",
    "import numpy\n",
    "listing = [[10, 20, 30, 40], [30, 40, 50,60], [100, 200, 300,400]]\n",
    "array = numpy.array(listing)\n",
    "print(array)\n",
    "print(array.shape)\n",
    "print(\"First row: %s\" % array[1])\n",
    "print(\"Last row: %s\" % array[-1])\n",
    "print(\"Specific row and col: %s\" % array[1, 3])\n",
    "print(\"Whole col: %s\" % array[:, 2])\n",
    "\n",
    "# arithmetic\n",
    "import numpy\n",
    "first_array = numpy.array([20, 20, 20, 60])\n",
    "second_array = numpy.array([30, 30, 30, 90])\n",
    "print(\"Addition: %s\" % (first_array + second_array))\n",
    "print(\"Multiplication: %s\" % (first_array * second_array))\n",
    "\n"
   ]
  },
  {
   "cell_type": "code",
   "execution_count": null,
   "metadata": {},
   "outputs": [],
   "source": []
  },
  {
   "cell_type": "code",
   "execution_count": null,
   "metadata": {},
   "outputs": [],
   "source": []
  },
  {
   "cell_type": "code",
   "execution_count": null,
   "metadata": {},
   "outputs": [],
   "source": []
  },
  {
   "cell_type": "code",
   "execution_count": null,
   "metadata": {},
   "outputs": [],
   "source": []
  },
  {
   "cell_type": "code",
   "execution_count": null,
   "metadata": {},
   "outputs": [],
   "source": []
  }
 ],
 "metadata": {
  "kernelspec": {
   "display_name": "Python 3",
   "language": "python",
   "name": "python3"
  },
  "language_info": {
   "codemirror_mode": {
    "name": "ipython",
    "version": 3
   },
   "file_extension": ".py",
   "mimetype": "text/x-python",
   "name": "python",
   "nbconvert_exporter": "python",
   "pygments_lexer": "ipython3",
   "version": "3.7.3"
  }
 },
 "nbformat": 4,
 "nbformat_minor": 2
}
