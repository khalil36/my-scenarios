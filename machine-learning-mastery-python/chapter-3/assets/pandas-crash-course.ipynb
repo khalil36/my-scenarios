{
 "cells": [
  {
   "cell_type": "code",
   "execution_count": null,
   "metadata": {},
   "outputs": [],
   "source": [
    "# pandas crash course\n",
    "\n",
    "\n",
    "# series\n",
    "import numpy\n",
    "import pandas\n",
    "array = numpy.array([10, 20, 30, 40])\n",
    "rownames = ['w','x', 'y', 'z']\n",
    "series = pandas.Series(array, index=rownames)\n",
    "print(series)\n",
    "\n",
    "print(series[2])\n",
    "print(series['z'])\n",
    "\n",
    "\n",
    "# dataframe\n",
    "import numpy\n",
    "import pandas\n",
    "array = numpy.array([[10, 20, 30, 60], [40, 50, 60, 150]])\n",
    "rownames = ['x', 'y']\n",
    "colnames = ['first', 'second', 'third', 'fourth']\n",
    "dataframe = pandas.DataFrame(array, index=rownames, columns=colnames)\n",
    "print(dataframe)\n",
    "\n",
    "print(\"second column: %s\" % dataframe['second'])\n",
    "print(\"third column: %s\" % dataframe.third)\n"
   ]
  },
  {
   "cell_type": "code",
   "execution_count": null,
   "metadata": {},
   "outputs": [],
   "source": []
  },
  {
   "cell_type": "code",
   "execution_count": null,
   "metadata": {},
   "outputs": [],
   "source": []
  },
  {
   "cell_type": "code",
   "execution_count": null,
   "metadata": {},
   "outputs": [],
   "source": []
  },
  {
   "cell_type": "code",
   "execution_count": null,
   "metadata": {},
   "outputs": [],
   "source": []
  },
  {
   "cell_type": "code",
   "execution_count": null,
   "metadata": {},
   "outputs": [],
   "source": []
  }
 ],
 "metadata": {
  "kernelspec": {
   "display_name": "Python 3",
   "language": "python",
   "name": "python3"
  },
  "language_info": {
   "codemirror_mode": {
    "name": "ipython",
    "version": 3
   },
   "file_extension": ".py",
   "mimetype": "text/x-python",
   "name": "python",
   "nbconvert_exporter": "python",
   "pygments_lexer": "ipython3",
   "version": "3.7.3"
  }
 },
 "nbformat": 4,
 "nbformat_minor": 2
}
