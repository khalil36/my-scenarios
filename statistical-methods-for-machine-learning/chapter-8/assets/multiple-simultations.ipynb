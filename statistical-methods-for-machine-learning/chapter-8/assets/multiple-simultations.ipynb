{
 "cells": [
  {
   "cell_type": "code",
   "execution_count": null,
   "metadata": {},
   "outputs": [],
   "source": [
    "# demonstration of the central limit theorem\n",
    "from numpy.random import seed\n",
    "from numpy.random import randint\n",
    "from numpy import mean\n",
    "from matplotlib import pyplot\n",
    "# seed the random number generator\n",
    "seed(0)\n",
    "# calculate the mean of 20 dice rolls 100 times\n",
    "means = [mean(randint(2, 5, 20)) for _ in range(100)]\n",
    "# plot the distribution of sample means\n",
    "pyplot.hist(means)\n",
    "pyplot.show()"
   ]
  },
  {
   "cell_type": "code",
   "execution_count": null,
   "metadata": {},
   "outputs": [],
   "source": []
  },
  {
   "cell_type": "code",
   "execution_count": null,
   "metadata": {},
   "outputs": [],
   "source": []
  }
 ],
 "metadata": {
  "kernelspec": {
   "display_name": "Python 3",
   "language": "python",
   "name": "python3"
  },
  "language_info": {
   "codemirror_mode": {
    "name": "ipython",
    "version": 3
   },
   "file_extension": ".py",
   "mimetype": "text/x-python",
   "name": "python",
   "nbconvert_exporter": "python",
   "pygments_lexer": "ipython3",
   "version": "3.7.3"
  }
 },
 "nbformat": 4,
 "nbformat_minor": 2
}
