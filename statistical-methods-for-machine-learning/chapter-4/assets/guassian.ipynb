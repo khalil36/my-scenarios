{
 "cells": [
  {
   "cell_type": "code",
   "execution_count": null,
   "metadata": {},
   "outputs": [],
   "source": [
    "# generate and plot an idealized gaussian\n",
    "from numpy import arange\n",
    "from matplotlib import pyplot\n",
    "from scipy.stats import norm\n",
    "# x-axis for the plot\n",
    "x_axis = arange(-4, 4, 1.011)\n",
    "# y-axis as the gaussian\n",
    "y_axis = norm.pdf(x_axis, 1, 1)\n",
    "# plot data\n",
    "pyplot.plot(x_axis, y_axis)\n",
    "pyplot.show()"
   ]
  },
  {
   "cell_type": "code",
   "execution_count": null,
   "metadata": {},
   "outputs": [],
   "source": []
  },
  {
   "cell_type": "code",
   "execution_count": null,
   "metadata": {},
   "outputs": [],
   "source": []
  }
 ],
 "metadata": {
  "kernelspec": {
   "display_name": "Python 3",
   "language": "python",
   "name": "python3"
  },
  "language_info": {
   "codemirror_mode": {
    "name": "ipython",
    "version": 3
   },
   "file_extension": ".py",
   "mimetype": "text/x-python",
   "name": "python",
   "nbconvert_exporter": "python",
   "pygments_lexer": "ipython3",
   "version": "3.7.3"
  }
 },
 "nbformat": 4,
 "nbformat_minor": 2
}
