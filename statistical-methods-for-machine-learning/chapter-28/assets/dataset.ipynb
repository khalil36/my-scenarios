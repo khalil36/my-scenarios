{
 "cells": [
  {
   "cell_type": "code",
   "execution_count": null,
   "metadata": {},
   "outputs": [],
   "source": [
    "# generate data samples\n",
    "from numpy.random import seed\n",
    "from numpy.random import rand\n",
    "# seed the random number generator\n",
    "seed(0)\n",
    "# generate two sets of univariate observations\n",
    "data1 = 30 + (rand(100) * 5)\n",
    "data2 = 31 + (rand(100) * 5)\n",
    "# summarize\n",
    "print('data1: min=%.3f max=%.3f' % (min(data1), max(data1)))\n",
    "print('data2: min=%.3f max=%.3f' % (min(data2), max(data2)))"
   ]
  },
  {
   "cell_type": "code",
   "execution_count": null,
   "metadata": {},
   "outputs": [],
   "source": []
  },
  {
   "cell_type": "code",
   "execution_count": null,
   "metadata": {},
   "outputs": [],
   "source": []
  }
 ],
 "metadata": {
  "kernelspec": {
   "display_name": "Python 3",
   "language": "python",
   "name": "python3"
  },
  "language_info": {
   "codemirror_mode": {
    "name": "ipython",
    "version": 3
   },
   "file_extension": ".py",
   "mimetype": "text/x-python",
   "name": "python",
   "nbconvert_exporter": "python",
   "pygments_lexer": "ipython3",
   "version": "3.7.3"
  }
 },
 "nbformat": 4,
 "nbformat_minor": 2
}
