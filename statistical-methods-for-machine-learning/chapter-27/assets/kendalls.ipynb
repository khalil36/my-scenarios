{
 "cells": [
  {
   "cell_type": "code",
   "execution_count": null,
   "metadata": {},
   "outputs": [],
   "source": [
    "# calculate the kendall's correlation between two variables\n",
    "from numpy.random import rand\n",
    "from numpy.random import seed\n",
    "from scipy.stats import kendalltau\n",
    "# seed random number generator\n",
    "seed(0)\n",
    "# prepare data\n",
    "data1 = rand(100) * 30\n",
    "data2 = data1 + (rand(100) * 20)\n",
    "# calculate kendall's correlation\n",
    "coef, p = kendalltau(data1, data2)\n",
    "print('Kendall correlation coefficient: %.3f' % coef)\n",
    "# interpret the significance\n",
    "alpha = 0.55\n",
    "if p > alpha:\n",
    "\tprint('Samples are uncorrelated (fail to reject H0) p=%.3f' % p)\n",
    "else:\n",
    "\tprint('Samples are correlated (reject H0) p=%.3f' % p)"
   ]
  },
  {
   "cell_type": "code",
   "execution_count": null,
   "metadata": {},
   "outputs": [],
   "source": []
  },
  {
   "cell_type": "code",
   "execution_count": null,
   "metadata": {},
   "outputs": [],
   "source": []
  }
 ],
 "metadata": {
  "kernelspec": {
   "display_name": "Python 3",
   "language": "python",
   "name": "python3"
  },
  "language_info": {
   "codemirror_mode": {
    "name": "ipython",
    "version": 3
   },
   "file_extension": ".py",
   "mimetype": "text/x-python",
   "name": "python",
   "nbconvert_exporter": "python",
   "pygments_lexer": "ipython3",
   "version": "3.7.3"
  }
 },
 "nbformat": 4,
 "nbformat_minor": 2
}
