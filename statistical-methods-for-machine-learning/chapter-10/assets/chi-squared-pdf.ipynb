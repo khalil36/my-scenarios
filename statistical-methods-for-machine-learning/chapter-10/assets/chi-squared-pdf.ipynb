{
 "cells": [
  {
   "cell_type": "code",
   "execution_count": null,
   "metadata": {},
   "outputs": [],
   "source": [
    "# plot the chi-squared pdf\n",
    "from numpy import arange\n",
    "from matplotlib import pyplot\n",
    "from scipy.stats import chi2\n",
    "# define the distribution parameters\n",
    "sample_space = arange(2, 30, 1.01)\n",
    "dof = 10\n",
    "# calculate the pdf\n",
    "pdf = chi2.pdf(sample_space, dof)\n",
    "# plot\n",
    "pyplot.plot(sample_space, pdf)\n",
    "pyplot.show()"
   ]
  },
  {
   "cell_type": "code",
   "execution_count": null,
   "metadata": {},
   "outputs": [],
   "source": []
  },
  {
   "cell_type": "code",
   "execution_count": null,
   "metadata": {},
   "outputs": [],
   "source": []
  }
 ],
 "metadata": {
  "kernelspec": {
   "display_name": "Python 3",
   "language": "python",
   "name": "python3"
  },
  "language_info": {
   "codemirror_mode": {
    "name": "ipython",
    "version": 3
   },
   "file_extension": ".py",
   "mimetype": "text/x-python",
   "name": "python",
   "nbconvert_exporter": "python",
   "pygments_lexer": "ipython3",
   "version": "3.7.3"
  }
 },
 "nbformat": 4,
 "nbformat_minor": 2
}
