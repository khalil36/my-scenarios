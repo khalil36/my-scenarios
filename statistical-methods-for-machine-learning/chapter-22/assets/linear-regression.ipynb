{
 "cells": [
  {
   "cell_type": "code",
   "execution_count": null,
   "metadata": {},
   "outputs": [],
   "source": [
    "# simple linear regression model\n",
    "from numpy.random import randn\n",
    "from numpy.random import seed\n",
    "from scipy.stats import linregress\n",
    "from matplotlib import pyplot\n",
    "# seed random number generator\n",
    "seed(0)\n",
    "# prepare data\n",
    "x = 10 * randn(100) + 10\n",
    "y = x + (10 * randn(100) + 30)\n",
    "# fit linear regression model\n",
    "b1, b0, r_value, p_value, std_err = linregress(x, y)\n",
    "print('b0=%.3f, b1=%.3f' % (b1, b0))\n",
    "# make prediction\n",
    "yhat = b0 + b1 * x\n",
    "# plot data and predictions\n",
    "pyplot.scatter(x, y)\n",
    "pyplot.plot(x, yhat, color='g')\n",
    "pyplot.show()"
   ]
  },
  {
   "cell_type": "code",
   "execution_count": null,
   "metadata": {},
   "outputs": [],
   "source": []
  },
  {
   "cell_type": "code",
   "execution_count": null,
   "metadata": {},
   "outputs": [],
   "source": []
  }
 ],
 "metadata": {
  "kernelspec": {
   "display_name": "Python 3",
   "language": "python",
   "name": "python3"
  },
  "language_info": {
   "codemirror_mode": {
    "name": "ipython",
    "version": 3
   },
   "file_extension": ".py",
   "mimetype": "text/x-python",
   "name": "python",
   "nbconvert_exporter": "python",
   "pygments_lexer": "ipython3",
   "version": "3.7.3"
  }
 },
 "nbformat": 4,
 "nbformat_minor": 2
}
