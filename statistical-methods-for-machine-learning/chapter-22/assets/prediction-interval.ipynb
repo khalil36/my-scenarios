{
 "cells": [
  {
   "cell_type": "code",
   "execution_count": null,
   "metadata": {},
   "outputs": [],
   "source": [
    "# linear regression prediction with prediction interval\n",
    "from numpy.random import randn\n",
    "from numpy.random import seed\n",
    "from numpy import sqrt\n",
    "from numpy import sum as arraysum\n",
    "from scipy.stats import linregress\n",
    "from matplotlib import pyplot\n",
    "# seed random number generator\n",
    "seed(0)\n",
    "# prepare data\n",
    "x = 10 * randn(100) + 10\n",
    "y = x + (10 * randn(100) + 30)\n",
    "# fit linear regression model\n",
    "b1, b0, r_value, p_value, std_err = linregress(x, y)\n",
    "# make predictions\n",
    "yhat = b0 + b1 * x\n",
    "# define new input, expected value and prediction\n",
    "x_in = x[0]\n",
    "y_out = y[0]\n",
    "yhat_out = yhat[0]\n",
    "# estimate stdev of yhat\n",
    "sum_errs = arraysum((y - yhat)**2)\n",
    "stdev = sqrt(1/(len(y)-2) * sum_errs)\n",
    "# calculate prediction interval\n",
    "interval = 1.96 * stdev\n",
    "print('Prediction Interval: %.3f' % interval)\n",
    "lower, upper = y_out - interval, y_out + interval\n",
    "print('95%% likelihood that the true value is between %.3f and %.3f' % (lower, upper))\n",
    "print('True value: %.3f' % yhat_out)\n",
    "# plot dataset and prediction with interval\n",
    "pyplot.scatter(x, y)\n",
    "pyplot.plot(x, yhat, color='g')\n",
    "pyplot.errorbar(x_in, yhat_out, yerr=interval, color='red', fmt='o')\n",
    "pyplot.show()"
   ]
  },
  {
   "cell_type": "code",
   "execution_count": null,
   "metadata": {},
   "outputs": [],
   "source": []
  },
  {
   "cell_type": "code",
   "execution_count": null,
   "metadata": {},
   "outputs": [],
   "source": []
  }
 ],
 "metadata": {
  "kernelspec": {
   "display_name": "Python 3",
   "language": "python",
   "name": "python3"
  },
  "language_info": {
   "codemirror_mode": {
    "name": "ipython",
    "version": 3
   },
   "file_extension": ".py",
   "mimetype": "text/x-python",
   "name": "python",
   "nbconvert_exporter": "python",
   "pygments_lexer": "ipython3",
   "version": "3.7.3"
  }
 },
 "nbformat": 4,
 "nbformat_minor": 2
}
