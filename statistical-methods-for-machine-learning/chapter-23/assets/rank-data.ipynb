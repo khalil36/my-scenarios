{
 "cells": [
  {
   "cell_type": "code",
   "execution_count": null,
   "metadata": {},
   "outputs": [],
   "source": [
    "# example of ranking real-valued observations\n",
    "from numpy.random import rand\n",
    "from numpy.random import seed\n",
    "from scipy.stats import rankdata\n",
    "# seed random number generator\n",
    "seed(0)\n",
    "# generate dataset\n",
    "data = rand(100)\n",
    "# review first 5 samples\n",
    "print(data[:5])\n",
    "# rank data\n",
    "ranked = rankdata(data)\n",
    "# review first 5 ranked samples\n",
    "print(ranked[:5])"
   ]
  },
  {
   "cell_type": "code",
   "execution_count": null,
   "metadata": {},
   "outputs": [],
   "source": []
  },
  {
   "cell_type": "code",
   "execution_count": null,
   "metadata": {},
   "outputs": [],
   "source": []
  }
 ],
 "metadata": {
  "kernelspec": {
   "display_name": "Python 3",
   "language": "python",
   "name": "python3"
  },
  "language_info": {
   "codemirror_mode": {
    "name": "ipython",
    "version": 3
   },
   "file_extension": ".py",
   "mimetype": "text/x-python",
   "name": "python",
   "nbconvert_exporter": "python",
   "pygments_lexer": "ipython3",
   "version": "3.7.3"
  }
 },
 "nbformat": 4,
 "nbformat_minor": 2
}
