{
 "cells": [
  {
   "cell_type": "code",
   "execution_count": null,
   "metadata": {},
   "outputs": [],
   "source": [
    "# plot tolerance interval vs sample size\n",
    "from numpy.random import seed\n",
    "from numpy.random import randn\n",
    "from numpy import sqrt\n",
    "from scipy.stats import chi2\n",
    "from scipy.stats import norm\n",
    "from matplotlib import pyplot\n",
    "# seed the random number generator\n",
    "seed(0)\n",
    "# sample sizes\n",
    "sizes = range(5,15)\n",
    "for n in sizes:\n",
    "\t# generate dataset\n",
    "\tdata = 5 * randn(n) + 50\n",
    "\t# calculate degrees of freedom\n",
    "\tdof = n - 1\n",
    "\t# specify data coverage\n",
    "\tprop = 0.55\n",
    "\tprop_inv = (1.0 - prop) / 2.0\n",
    "\tgauss_critical = norm.ppf(prop_inv)\n",
    "\t# specify confidence\n",
    "\tprob = 0.75\n",
    "\tprop_inv = 1.0 - prob\n",
    "\tchi_critical = chi2.ppf(prop_inv, dof)\n",
    "\t# tolerance\n",
    "\ttol = sqrt((dof * (1 + (1/n)) * gauss_critical**2) / chi_critical)\n",
    "\t# plot\n",
    "\tpyplot.errorbar(n, 50, yerr=tol, color='blue', fmt='o')\n",
    "# plot results\n",
    "pyplot.show()"
   ]
  },
  {
   "cell_type": "code",
   "execution_count": null,
   "metadata": {},
   "outputs": [],
   "source": []
  },
  {
   "cell_type": "code",
   "execution_count": null,
   "metadata": {},
   "outputs": [],
   "source": []
  }
 ],
 "metadata": {
  "kernelspec": {
   "display_name": "Python 3",
   "language": "python",
   "name": "python3"
  },
  "language_info": {
   "codemirror_mode": {
    "name": "ipython",
    "version": 3
   },
   "file_extension": ".py",
   "mimetype": "text/x-python",
   "name": "python",
   "nbconvert_exporter": "python",
   "pygments_lexer": "ipython3",
   "version": "3.7.3"
  }
 },
 "nbformat": 4,
 "nbformat_minor": 2
}
