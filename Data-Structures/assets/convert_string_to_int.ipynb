{
  "nbformat_minor": 1, 
  "nbformat": 4, 
  "cells": [
    {
      "source": [
        "# Example of integer encoding string class values\n", 
        "from csv import reader\n", 
        "\n", 
        "# Load a CSV file\n", 
        "def load_csv(filename):\n", 
        "\t#write your code here\n", 
        "\n", 
        "# Convert string column to float\n", 
        "def str_column_to_float(dataset, column):\n", 
        "\t# write your code here\n", 
        "\n", 
        "# Convert string column to integer\n", 
        "def str_column_to_int(dataset, column):\n", 
        "\t# write your code here\n", 
        "\n", 
        "# Load iris dataset\n", 
        "filename = 'iris.csv'\n", 
        "dataset = load_csv(filename)\n", 
        "print('Loaded data file {0} with {1} rows and {2} columns'.format(filename, len(dataset), len(dataset[0])))\n", 
        "print(dataset[0])\n", 
        "# convert string columns to float\n", 
        "for i in range(4):\n", 
        "\tstr_column_to_float(dataset, i)\n", 
        "# convert class column to int\n", 
        "lookup = str_column_to_int(dataset, 4)\n", 
        "print(dataset[0])\n", 
        "print(lookup)"
      ], 
      "cell_type": "code", 
      "execution_count": null, 
      "outputs": [], 
      "metadata": {}
    }
  ], 
  "metadata": {
    "kernelspec": {
      "display_name": "Python 3", 
      "name": "python3", 
      "language": "python"
    }, 
    "language_info": {
      "mimetype": "text/x-python", 
      "nbconvert_exporter": "python", 
      "name": "python", 
      "file_extension": ".py", 
      "version": "3.6.1", 
      "pygments_lexer": "ipython3", 
      "codemirror_mode": {
        "version": 3, 
        "name": "ipython"
      }
    }, 
    "anaconda-cloud": {}
  }
}