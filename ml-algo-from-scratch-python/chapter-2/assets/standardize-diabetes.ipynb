{
 "cells": [
  {
   "cell_type": "code",
   "execution_count": null,
   "metadata": {},
   "outputs": [],
   "source": [
    "# Standardize the Diabetes Dataset\n",
    "from csv import reader\n",
    "from math import sqrt\n",
    "\n",
    "# Load a CSV file\n",
    "def load_csv(filename):\n",
    "\tdataset = list()\n",
    "\twith open(filename, 'r') as file:\n",
    "\t\tcsv_reader = reader(file)\n",
    "\t\tfor row in csv_reader:\n",
    "\t\t\tif not row:\n",
    "\t\t\t\tcontinue\n",
    "\t\t\tdataset.append(row)\n",
    "\treturn dataset\n",
    "\n",
    "# Convert string column to float\n",
    "def str_column_to_float(dataset, column):\n",
    "\tfor row in dataset:\n",
    "\t\trow[column] = float(row[column].strip())\n",
    "\n",
    "# calculate column means\n",
    "def column_means(dataset):\n",
    "\tmeans = [0 for i in range(len(dataset[0]))]\n",
    "\tfor i in range(len(dataset[0])):\n",
    "\t\tcol_values = [row[i] for row in dataset]\n",
    "\t\tmeans[i] = sum(col_values) / float(len(dataset))\n",
    "\treturn means\n",
    "\n",
    "# calculate column standard deviations\n",
    "def column_stdevs(dataset, means):\n",
    "\tstdevs = [0 for i in range(len(dataset[0]))]\n",
    "\tfor i in range(len(dataset[0])):\n",
    "\t\tvariance = [pow(row[i]-means[i], 2) for row in dataset]\n",
    "\t\tstdevs[i] = sum(variance)\n",
    "\tstdevs = [sqrt(x/(float(len(dataset)-1))) for x in stdevs]\n",
    "\treturn stdevs\n",
    "\n",
    "# standardize dataset\n",
    "def standardize_dataset(dataset, means, stdevs):\n",
    "\tfor row in dataset:\n",
    "\t\tfor i in range(len(row)):\n",
    "\t\t\trow[i] = (row[i] - means[i]) / stdevs[i]\n",
    "\n",
    "# Load african-diabetes dataset\n",
    "filename = 'african-diabetes.csv'\n",
    "dataset = load_csv(filename)\n",
    "print('Data file {0} with {1} rows and {2} columns'.format(filename, len(dataset), len(dataset[0])))\n",
    "# convert string columns to float\n",
    "for i in range(len(dataset[1])):\n",
    "\tstr_column_to_float(dataset, i)\n",
    "print(dataset[1])\n",
    "# Estimate mean and standard deviation\n",
    "means = column_means(dataset)\n",
    "stdevs = column_stdevs(dataset, means)\n",
    "# standardize dataset\n",
    "standardize_dataset(dataset, means, stdevs)\n",
    "print(dataset[1])"
   ]
  },
  {
   "cell_type": "code",
   "execution_count": null,
   "metadata": {},
   "outputs": [],
   "source": []
  },
  {
   "cell_type": "code",
   "execution_count": null,
   "metadata": {},
   "outputs": [],
   "source": []
  }
 ],
 "metadata": {
  "kernelspec": {
   "display_name": "Python 3",
   "language": "python",
   "name": "python3"
  },
  "language_info": {
   "codemirror_mode": {
    "name": "ipython",
    "version": 3
   },
   "file_extension": ".py",
   "mimetype": "text/x-python",
   "name": "python",
   "nbconvert_exporter": "python",
   "pygments_lexer": "ipython3",
   "version": "3.7.3"
  }
 },
 "nbformat": 4,
 "nbformat_minor": 2
}
