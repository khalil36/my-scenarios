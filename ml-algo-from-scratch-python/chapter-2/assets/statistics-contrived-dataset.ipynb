{
 "cells": [
  {
   "cell_type": "code",
   "execution_count": null,
   "metadata": {},
   "outputs": [],
   "source": [
    "# Example of calculating stats on a contrived dataset\n",
    "from math import sqrt\n",
    "\n",
    "# calculate column means\n",
    "def column_means(dataset):\n",
    "\tmeans = [0 for i in range(len(dataset[0]))]\n",
    "\tfor i in range(len(dataset[0])):\n",
    "\t\tcol_values = [row[i] for row in dataset]\n",
    "\t\tmeans[i] = sum(col_values) / float(len(dataset))\n",
    "\treturn means\n",
    "\n",
    "# calculate column standard deviations\n",
    "def column_stdevs(dataset, means):\n",
    "\tstdevs = [0 for i in range(len(dataset[0]))]\n",
    "\tfor i in range(len(dataset[0])):\n",
    "\t\tvariance = [pow(row[i]-means[i], 2) for row in dataset]\n",
    "\t\tstdevs[i] = sum(variance)\n",
    "\tstdevs = [sqrt(x/(float(len(dataset)-1))) for x in stdevs]\n",
    "\treturn stdevs\n",
    "\n",
    "# Standardize dataset\n",
    "dataset = [[80, 40], [30, 60], [20, 40]]\n",
    "print(dataset)\n",
    "# Estimate mean and standard deviation\n",
    "means = column_means(dataset)\n",
    "stdevs = column_stdevs(dataset, means)\n",
    "print(means)\n",
    "print(stdevs)"
   ]
  },
  {
   "cell_type": "code",
   "execution_count": null,
   "metadata": {},
   "outputs": [],
   "source": []
  },
  {
   "cell_type": "code",
   "execution_count": null,
   "metadata": {},
   "outputs": [],
   "source": []
  }
 ],
 "metadata": {
  "kernelspec": {
   "display_name": "Python 3",
   "language": "python",
   "name": "python3"
  },
  "language_info": {
   "codemirror_mode": {
    "name": "ipython",
    "version": 3
   },
   "file_extension": ".py",
   "mimetype": "text/x-python",
   "name": "python",
   "nbconvert_exporter": "python",
   "pygments_lexer": "ipython3",
   "version": "3.7.3"
  }
 },
 "nbformat": 4,
 "nbformat_minor": 2
}
