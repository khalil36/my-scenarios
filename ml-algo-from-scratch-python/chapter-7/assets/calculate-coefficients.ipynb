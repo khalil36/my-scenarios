{
 "cells": [
  {
   "cell_type": "code",
   "execution_count": null,
   "metadata": {},
   "outputs": [],
   "source": [
    "# Example of Calculating Coefficients\n",
    "\n",
    "# Calculate the mean value of a list of numbers\n",
    "def mean(values):\n",
    "\treturn sum(values) / float(len(values))\n",
    "\n",
    "# Calculate covariance between x and y\n",
    "def covariance(x, mean_x, y, mean_y):\n",
    "\tcovar = 0.0\n",
    "\tfor i in range(len(x)):\n",
    "\t\tcovar += (x[i] - mean_x) * (y[i] - mean_y)\n",
    "\treturn covar\n",
    "\n",
    "# Calculate the variance of a list of numbers\n",
    "def variance(values, mean):\n",
    "\treturn sum([(x-mean)**2 for x in values])\n",
    "\n",
    "# Calculate coefficients\n",
    "def coefficients(dataset):\n",
    "\tx = [row[0] for row in dataset]\n",
    "\ty = [row[1] for row in dataset]\n",
    "\tx_mean, y_mean = mean(x), mean(y)\n",
    "\tb1 = covariance(x, x_mean, y, y_mean) / variance(x, x_mean)\n",
    "\tb0 = y_mean - b1 * x_mean\n",
    "\treturn [b0, b1]\n",
    "\n",
    "# calculate coefficients\n",
    "dataset = [[3, 3], [3, 4], [5, 4], [4, 3], [6, 5]]\n",
    "b0, b1 = coefficients(dataset)\n",
    "print('Coefficients: B0=%.3f, B1=%.3f' % (b0, b1))"
   ]
  },
  {
   "cell_type": "code",
   "execution_count": null,
   "metadata": {},
   "outputs": [],
   "source": []
  },
  {
   "cell_type": "code",
   "execution_count": null,
   "metadata": {},
   "outputs": [],
   "source": []
  }
 ],
 "metadata": {
  "kernelspec": {
   "display_name": "Python 3",
   "language": "python",
   "name": "python3"
  },
  "language_info": {
   "codemirror_mode": {
    "name": "ipython",
    "version": 3
   },
   "file_extension": ".py",
   "mimetype": "text/x-python",
   "name": "python",
   "nbconvert_exporter": "python",
   "pygments_lexer": "ipython3",
   "version": "3.7.3"
  }
 },
 "nbformat": 4,
 "nbformat_minor": 2
}
