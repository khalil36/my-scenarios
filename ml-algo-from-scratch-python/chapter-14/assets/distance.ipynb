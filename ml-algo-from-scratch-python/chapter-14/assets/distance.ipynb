{
 "cells": [
  {
   "cell_type": "code",
   "execution_count": null,
   "metadata": {},
   "outputs": [],
   "source": [
    "# Example of calculating Euclidean distance\n",
    "from math import sqrt\n",
    "\n",
    "# calculate the Euclidean distance between two vectors\n",
    "def euclidean_distance(row1, row2):\n",
    "\tdistance = 0.0\n",
    "\tfor i in range(len(row1)-1):\n",
    "\t\tdistance += (row1[i] - row2[i])**2\n",
    "\treturn sqrt(distance)\n",
    "\n",
    "# Test distance function\n",
    "dataset = [[3.7810836,6.550537003,0],\n",
    "\t[2.465489372,4.362125076,0],\n",
    "\t[4.396561688,8.400293529,0],\n",
    "\t[2.38807019,2.850220317,0],\n",
    "\t[4.06407232,6.005305973,0],\n",
    "\t[6.627531214,4.759262235,1],\n",
    "\t[4.332441248,4.088626775,1],\n",
    "\t[5.922596716,2.77106367,1],\n",
    "\t[7.675418651,-1.242068655,1],\n",
    "\t[6.673756466,6.508563011,1]]\n",
    "row0 = dataset[0]\n",
    "for row in dataset:\n",
    "\tdistance = euclidean_distance(row0, row)\n",
    "\tprint(distance)"
   ]
  },
  {
   "cell_type": "code",
   "execution_count": null,
   "metadata": {},
   "outputs": [],
   "source": []
  },
  {
   "cell_type": "code",
   "execution_count": null,
   "metadata": {},
   "outputs": [],
   "source": []
  }
 ],
 "metadata": {
  "kernelspec": {
   "display_name": "Python 3",
   "language": "python",
   "name": "python3"
  },
  "language_info": {
   "codemirror_mode": {
    "name": "ipython",
    "version": 3
   },
   "file_extension": ".py",
   "mimetype": "text/x-python",
   "name": "python",
   "nbconvert_exporter": "python",
   "pygments_lexer": "ipython3",
   "version": "3.7.3"
  }
 },
 "nbformat": 4,
 "nbformat_minor": 2
}
