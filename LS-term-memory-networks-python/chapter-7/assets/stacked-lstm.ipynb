{
 "cells": [
  {
   "cell_type": "code",
   "execution_count": null,
   "metadata": {},
   "outputs": [],
   "source": [
    "from math import sin\n",
    "from math import pi\n",
    "from math import exp\n",
    "from random import randint\n",
    "from random import uniform\n",
    "from numpy import array\n",
    "from matplotlib import pyplot\n",
    "from keras.models import Sequential\n",
    "from keras.layers import LSTM\n",
    "from keras.layers import Dense\n",
    "\n",
    "# generate damped sine wave in [0,1]\n",
    "def generate_sequence(length, period, decay):\n",
    "\treturn [0.5 + 0.5 * sin(2 * pi * i / period) * exp(-decay * i) for i in range(length)]\n",
    "\n",
    "# generate input and output pairs of damped sine waves\n",
    "def generate_examples(length, n_patterns, output):\n",
    "\tX, y = list(), list()\n",
    "\tfor _ in range(n_patterns):\n",
    "\t\tp = randint(10, 20)\n",
    "\t\td = uniform(0.01, 0.1)\n",
    "\t\tsequence = generate_sequence(length + output, p, d)\n",
    "\t\tX.append(sequence[:-output])\n",
    "\t\ty.append(sequence[-output:])\n",
    "\tX = array(X).reshape(n_patterns, length, 1)\n",
    "\ty = array(y).reshape(n_patterns, output)\n",
    "\treturn X, y\n",
    "\n",
    "# configure problem\n",
    "length = 25\n",
    "output = 6\n",
    "\n",
    "# define model\n",
    "model = Sequential()\n",
    "model.add(LSTM(20, return_sequences=True, input_shape=(length, 1)))\n",
    "model.add(LSTM(20))\n",
    "model.add(Dense(output))\n",
    "model.compile(loss='mae', optimizer='adam')\n",
    "model.summary()\n",
    "\n",
    "# fit model\n",
    "X, y = generate_examples(length, 100, output)\n",
    "history = model.fit(X, y, batch_size=10, epochs=1)\n",
    "\n",
    "# evaluate model\n",
    "X, y = generate_examples(length, 10, output)\n",
    "loss = model.evaluate(X, y, verbose=0)\n",
    "print('MAE: %f' % loss)\n",
    "\n",
    "# prediction on new data\n",
    "X, y = generate_examples(length, 1, output)\n",
    "yhat = model.predict(X, verbose=0)\n",
    "pyplot.plot(y[0], label='y')\n",
    "pyplot.plot(yhat[0], label='yhat')\n",
    "pyplot.legend()\n",
    "pyplot.show()"
   ]
  },
  {
   "cell_type": "code",
   "execution_count": null,
   "metadata": {},
   "outputs": [],
   "source": []
  }
 ],
 "metadata": {
  "kernelspec": {
   "display_name": "Python 3",
   "language": "python",
   "name": "python3"
  },
  "language_info": {
   "codemirror_mode": {
    "name": "ipython",
    "version": 3
   },
   "file_extension": ".py",
   "mimetype": "text/x-python",
   "name": "python",
   "nbconvert_exporter": "python",
   "pygments_lexer": "ipython3",
   "version": "3.7.3"
  }
 },
 "nbformat": 4,
 "nbformat_minor": 2
}
