{
 "cells": [
  {
   "cell_type": "code",
   "execution_count": null,
   "metadata": {},
   "outputs": [],
   "source": [
    "from keras.models import Sequential\n",
    "from keras.layers import Dense\n",
    "from keras.layers import LSTM\n",
    "from matplotlib import pyplot\n",
    "from pandas import DataFrame\n",
    "from numpy import array\n",
    "\n",
    "# return training data\n",
    "def get_train():\n",
    "\tseq = [[1.0, 0.1], [1.0, 0.2], [1.0, 0.3], [1.0, 0.4], [1.0, 0.5]]\n",
    "\tseq = array(seq)\n",
    "\tX, y = seq[:, 0], seq[:, 1]\n",
    "\tX = X.reshape((5, 1, 1))\n",
    "\treturn X, y\n",
    "\n",
    "# return validation data\n",
    "def get_val():\n",
    "\tseq = [[1.5, 0.6], [1.6, 0.7], [1.7, 0.8], [1.8, 0.9], [1.9, 1.0]]\n",
    "\tseq = array(seq)\n",
    "\tX, y = seq[:, 0], seq[:, 1]\n",
    "\tX = X.reshape((len(X), 1, 1))\n",
    "\treturn X, y\n",
    "\n",
    "# fit an LSTM model\n",
    "def fit_model(n_cells):\n",
    "\t# define model\n",
    "\tmodel = Sequential()\n",
    "\tmodel.add(LSTM(n_cells, input_shape=(1,1)))\n",
    "\tmodel.add(Dense(1, activation='linear'))\n",
    "\t# compile model\n",
    "\tmodel.compile(loss='mse', optimizer='adam')\n",
    "\t# fit model\n",
    "\tX,y = get_train()\n",
    "\tmodel.fit(X, y, epochs=50, shuffle=False, verbose=0)\n",
    "\t# evaluate model\n",
    "\tvalX, valY = get_val()\n",
    "\tloss = model.evaluate(valX, valY, verbose=0)\n",
    "\treturn loss\n",
    "\n",
    "# define scope of search\n",
    "params = [1, 5, 10]\n",
    "n_repeats = 3\n",
    "# grid search parameter values\n",
    "scores = DataFrame()\n",
    "for value in params:\n",
    "\t# repeat each experiment multiple times\n",
    "\tloss_values = list()\n",
    "\tfor i in range(n_repeats):\n",
    "\t\tloss = fit_model(value)\n",
    "\t\tloss_values.append(loss)\n",
    "\t\tprint('>%d/%d param=%f, loss=%f' % (i+1, n_repeats, value, loss))\n",
    "\t# store results for this parameter\n",
    "\tscores[str(value)] = loss_values\n",
    "# summary statistics of results\n",
    "print(scores.describe())\n",
    "# box and whisker plot of results\n",
    "scores.boxplot()\n",
    "pyplot.show()\n"
   ]
  },
  {
   "cell_type": "code",
   "execution_count": null,
   "metadata": {},
   "outputs": [],
   "source": []
  }
 ],
 "metadata": {
  "kernelspec": {
   "display_name": "Python 3",
   "language": "python",
   "name": "python3"
  },
  "language_info": {
   "codemirror_mode": {
    "name": "ipython",
    "version": 3
   },
   "file_extension": ".py",
   "mimetype": "text/x-python",
   "name": "python",
   "nbconvert_exporter": "python",
   "pygments_lexer": "ipython3",
   "version": "3.7.3"
  }
 },
 "nbformat": 4,
 "nbformat_minor": 2
}
