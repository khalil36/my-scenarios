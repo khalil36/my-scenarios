{
 "cells": [
  {
   "cell_type": "code",
   "execution_count": null,
   "metadata": {},
   "outputs": [],
   "source": [
    "from keras.models import Sequential\n",
    "from keras.layers import Dense\n",
    "from keras.layers import LSTM\n",
    "from numpy import array\n",
    "from keras.models import load_model\n",
    "\n",
    "# return training data\n",
    "def get_train():\n",
    "\tseq = [[1.0, 0.1], [1.0, 0.2], [1.0, 0.3], [1.0, 0.4], [1.0, 0.5]]\n",
    "\tseq = array(seq)\n",
    "\tX, y = seq[:, 0], seq[:, 1]\n",
    "\tX = X.reshape((len(X), 1, 1))\n",
    "\treturn X, y\n",
    "\n",
    "# define model\n",
    "model = Sequential()\n",
    "model.add(LSTM(10, input_shape=(1,1)))\n",
    "model.add(Dense(1, activation='linear'))\n",
    "# compile model\n",
    "model.compile(loss='mse', optimizer='adam')\n",
    "# fit model\n",
    "X,y = get_train()\n",
    "model.fit(X, y, epochs=30, shuffle=False, verbose=0)\n",
    "# save model to single file\n",
    "model.save('lstm_model.h5')\n",
    "\n",
    "# snip...\n",
    "# later, perhaps run from another script\n",
    "\n",
    "# load model from single file\n",
    "model = load_model('lstm_model.h5')\n",
    "# make predictions\n",
    "yhat = model.predict(X, verbose=0)\n",
    "print(yhat)"
   ]
  },
  {
   "cell_type": "code",
   "execution_count": null,
   "metadata": {},
   "outputs": [],
   "source": []
  }
 ],
 "metadata": {
  "kernelspec": {
   "display_name": "Python 3",
   "language": "python",
   "name": "python3"
  },
  "language_info": {
   "codemirror_mode": {
    "name": "ipython",
    "version": 3
   },
   "file_extension": ".py",
   "mimetype": "text/x-python",
   "name": "python",
   "nbconvert_exporter": "python",
   "pygments_lexer": "ipython3",
   "version": "3.7.3"
  }
 },
 "nbformat": 4,
 "nbformat_minor": 2
}
