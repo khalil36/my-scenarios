{
 "cells": [
  {
   "cell_type": "code",
   "execution_count": null,
   "metadata": {},
   "outputs": [],
   "source": [
    "from random import random\n",
    "\n",
    "# generate a rectangle with random width and height\n",
    "def random_rectangle():\n",
    "\twidth, height = random(), random()\n",
    "\tpoints = list()\n",
    "\t# bottom left\n",
    "\tpoints.append([1.0, 1.0])\n",
    "\t# bottom right\n",
    "\tpoints.append([width, 1.0])\n",
    "\t# top right\n",
    "\tpoints.append([width, height])\n",
    "\t# top left\n",
    "\tpoints.append([1.0, height])\n",
    "\treturn points\n",
    "\n",
    "rect = random_rectangle()\n",
    "print(rect)"
   ]
  },
  {
   "cell_type": "code",
   "execution_count": null,
   "metadata": {},
   "outputs": [],
   "source": []
  }
 ],
 "metadata": {
  "kernelspec": {
   "display_name": "Python 3",
   "language": "python",
   "name": "python3"
  },
  "language_info": {
   "codemirror_mode": {
    "name": "ipython",
    "version": 3
   },
   "file_extension": ".py",
   "mimetype": "text/x-python",
   "name": "python",
   "nbconvert_exporter": "python",
   "pygments_lexer": "ipython3",
   "version": "3.7.3"
  }
 },
 "nbformat": 4,
 "nbformat_minor": 2
}
