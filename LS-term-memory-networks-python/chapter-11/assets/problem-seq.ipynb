{
 "cells": [
  {
   "cell_type": "code",
   "execution_count": null,
   "metadata": {},
   "outputs": [],
   "source": [
    "from random import random\n",
    "from numpy import array\n",
    "\n",
    "# generate a rectangle with random width and height\n",
    "def random_rectangle():\n",
    "\twidth, height = random(), random()\n",
    "\tpoints = list()\n",
    "\t# bottom left\n",
    "\tpoints.append([1.0, 1.0])\n",
    "\t# bottom right\n",
    "\tpoints.append([width, 1.0])\n",
    "\t# top right\n",
    "\tpoints.append([width, height])\n",
    "\t# top left\n",
    "\tpoints.append([1.0, height])\n",
    "\treturn points\n",
    "\n",
    "# generate input and output sequences for one random rectangle\n",
    "def get_samples():\n",
    "\t# generate rectangle\n",
    "\trect = random_rectangle()\n",
    "\tX, y = list(), list()\n",
    "\t# create input output pairs for each coordinate\n",
    "\tfor i in range(1, len(rect)):\n",
    "\t\tX.append(rect[i-1])\n",
    "\t\ty.append(rect[i])\n",
    "\t# convert input sequence shape to have 1 time step and 2 features\n",
    "\tX, y = array(X), array(y)\n",
    "\tX = X.reshape((X.shape[0], 1, 2))\n",
    "\treturn X, y\n",
    "\n",
    "X, y = get_samples()\n",
    "for i in range(X.shape[0]):\n",
    "\tprint(X[i][0], '=>', y[i])"
   ]
  },
  {
   "cell_type": "code",
   "execution_count": null,
   "metadata": {},
   "outputs": [],
   "source": []
  }
 ],
 "metadata": {
  "kernelspec": {
   "display_name": "Python 3",
   "language": "python",
   "name": "python3"
  },
  "language_info": {
   "codemirror_mode": {
    "name": "ipython",
    "version": 3
   },
   "file_extension": ".py",
   "mimetype": "text/x-python",
   "name": "python",
   "nbconvert_exporter": "python",
   "pygments_lexer": "ipython3",
   "version": "3.7.3"
  }
 },
 "nbformat": 4,
 "nbformat_minor": 2
}
