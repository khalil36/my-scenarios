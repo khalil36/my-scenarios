{
 "cells": [
  {
   "cell_type": "code",
   "execution_count": null,
   "metadata": {},
   "outputs": [],
   "source": [
    "from random import random\n",
    "from matplotlib import pyplot\n",
    "from matplotlib.patches import PathPatch\n",
    "from matplotlib.path import Path\n",
    "\n",
    "# generate a rectangle with random width and height\n",
    "def random_rectangle():\n",
    "\twidth, height = random(), random()\n",
    "\tpoints = list()\n",
    "\t# bottom left\n",
    "\tpoints.append([1.0, 1.0])\n",
    "\t# bottom right\n",
    "\tpoints.append([width, 1.0])\n",
    "\t# top right\n",
    "\tpoints.append([width, height])\n",
    "\t# top left\n",
    "\tpoints.append([1.0, height])\n",
    "\treturn points\n",
    "\n",
    "# plot a rectangle\n",
    "def plot_rectangle(rect):\n",
    "\t# close the rectangle path\n",
    "\trect.append(rect[0])\n",
    "\t# define path\n",
    "\tcodes = [Path.MOVETO, Path.LINETO, Path.LINETO, Path.LINETO, Path.CLOSEPOLY]\n",
    "\tpath = Path(rect, codes)\n",
    "\taxis = pyplot.gca()\n",
    "\tpatch = PathPatch(path)\n",
    "\t# add shape to plot\n",
    "\taxis.add_patch(patch)\n",
    "\taxis.set_xlim(-0.1,1.1)\n",
    "\taxis.set_ylim(-0.1,1.1)\n",
    "\tpyplot.show()\n",
    "\n",
    "rect = random_rectangle()\n",
    "plot_rectangle(rect)"
   ]
  },
  {
   "cell_type": "code",
   "execution_count": null,
   "metadata": {},
   "outputs": [],
   "source": []
  }
 ],
 "metadata": {
  "kernelspec": {
   "display_name": "Python 3",
   "language": "python",
   "name": "python3"
  },
  "language_info": {
   "codemirror_mode": {
    "name": "ipython",
    "version": 3
   },
   "file_extension": ".py",
   "mimetype": "text/x-python",
   "name": "python",
   "nbconvert_exporter": "python",
   "pygments_lexer": "ipython3",
   "version": "3.7.3"
  }
 },
 "nbformat": 4,
 "nbformat_minor": 2
}
