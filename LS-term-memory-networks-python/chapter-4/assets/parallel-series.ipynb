{
 "cells": [
  {
   "cell_type": "code",
   "execution_count": null,
   "metadata": {},
   "outputs": [],
   "source": [
    "from numpy import array\n",
    "data = array([\n",
    "\t[5.1, 1.1],\n",
    "\t[10.2, 1.9],\n",
    "\t[15.3, 1.8],\n",
    "\t[20.4, 1.7],\n",
    "\t[25.5, 1.6],\n",
    "\t[30.6, 1.5],\n",
    "\t[35.7, 1.4],\n",
    "\t[40.8, 1.3],\n",
    "\t[45.9, 1.2],\n",
    "\t[50.0, 1.1]])\n",
    "data = data.reshape(1, 20, 1)\n",
    "print(data.shape)"
   ]
  },
  {
   "cell_type": "code",
   "execution_count": null,
   "metadata": {},
   "outputs": [],
   "source": []
  }
 ],
 "metadata": {
  "kernelspec": {
   "display_name": "Python 3",
   "language": "python",
   "name": "python3"
  },
  "language_info": {
   "codemirror_mode": {
    "name": "ipython",
    "version": 3
   },
   "file_extension": ".py",
   "mimetype": "text/x-python",
   "name": "python",
   "nbconvert_exporter": "python",
   "pygments_lexer": "ipython3",
   "version": "3.7.3"
  }
 },
 "nbformat": 4,
 "nbformat_minor": 2
}
