{
 "cells": [
  {
   "cell_type": "code",
   "execution_count": null,
   "metadata": {},
   "outputs": [],
   "source": [
    "from numpy import zeros\n",
    "from random import randint\n",
    "from random import random\n",
    "from matplotlib import pyplot\n",
    "\n",
    "# generate the next frame in the sequence\n",
    "def next_frame(last_step, last_frame, column):\n",
    "\t# define the scope of the next step\n",
    "\tlower = max(0, last_step-1)\n",
    "\tupper = min(last_frame.shape[0]-1, last_step+1)\n",
    "\t# choose the row index for the next step\n",
    "\tstep = randint(lower, upper)\n",
    "\t# copy the prior frame\n",
    "\tframe = last_frame.copy()\n",
    "\t# add the new step\n",
    "\tframe[step, column] = 1\n",
    "\treturn frame, step\n",
    "\n",
    "# generate a sequence of frames of a dot moving across an image\n",
    "def build_frames(size):\n",
    "\tframes = list()\n",
    "\t# create the first frame\n",
    "\tframe = zeros((size,size))\n",
    "\tstep = randint(0, size-1)\n",
    "\t# decide if we are heading left or right\n",
    "\tright = 1 if random() < 0.5 else 0\n",
    "\tcol = 0 if right else size-1\n",
    "\tframe[step, col] = 1\n",
    "\tframes.append(frame)\n",
    "\t# create all remaining frames\n",
    "\tfor i in range(1, size):\n",
    "\t\tcol = i if right else size-1-i\n",
    "\t\tframe, step = next_frame(step, frame, col)\n",
    "\t\tframes.append(frame)\n",
    "\treturn frames, right\n",
    "\n",
    "# generate sequence of frames\n",
    "size = 6\n",
    "frames, right = build_frames(size)\n",
    "# plot all frames\n",
    "pyplot.figure()\n",
    "for i in range(size):\n",
    "\t# create a gray scale subplot for each frame\n",
    "\tpyplot.subplot(1, size, i+1)\n",
    "\tpyplot.imshow(frames[i], cmap='Greys')\n",
    "\t# turn of the scale to make it clearer\n",
    "\tax = pyplot.gca()\n",
    "\tax.get_xaxis().set_visible(False)\n",
    "\tax.get_yaxis().set_visible(False)\n",
    "# show the plot\n",
    "pyplot.show()"
   ]
  },
  {
   "cell_type": "code",
   "execution_count": null,
   "metadata": {},
   "outputs": [],
   "source": []
  }
 ],
 "metadata": {
  "kernelspec": {
   "display_name": "Python 3",
   "language": "python",
   "name": "python3"
  },
  "language_info": {
   "codemirror_mode": {
    "name": "ipython",
    "version": 3
   },
   "file_extension": ".py",
   "mimetype": "text/x-python",
   "name": "python",
   "nbconvert_exporter": "python",
   "pygments_lexer": "ipython3",
   "version": "3.7.3"
  }
 },
 "nbformat": 4,
 "nbformat_minor": 2
}
