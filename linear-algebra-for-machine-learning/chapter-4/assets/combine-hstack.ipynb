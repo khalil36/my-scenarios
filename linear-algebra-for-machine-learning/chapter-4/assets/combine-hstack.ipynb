{
 "cells": [
  {
   "cell_type": "code",
   "execution_count": 1,
   "metadata": {},
   "outputs": [
    {
     "name": "stdout",
     "output_type": "stream",
     "text": [
      "scipy: 1.2.1\n",
      "numpy: 1.16.4\n",
      "matplotlib: 3.1.0\n",
      "pandas: 0.24.2\n",
      "statsmodels: 0.10.0\n",
      "sklearn: 0.21.2\n"
     ]
    }
   ],
   "source": [
    "# create array with hstack\n",
    "from numpy import array\n",
    "from numpy import hstack\n",
    "# create first array\n",
    "arr1 = array([5,10,15,20])\n",
    "print(arr1)\n",
    "# create second array\n",
    "arr2 = array([4,8,12,16])\n",
    "print(arr2)\n",
    "# create third array\n",
    "arr3 = array([2,4,4,8])\n",
    "print(arr3)\n",
    "# create horizontal stack\n",
    "arr4 = hstack((arr1, arr2, arr3))\n",
    "print(arr4)\n",
    "print(arr4.shape)"
   ]
  },
  {
   "cell_type": "code",
   "execution_count": null,
   "metadata": {},
   "outputs": [],
   "source": []
  },
  {
   "cell_type": "code",
   "execution_count": null,
   "metadata": {},
   "outputs": [],
   "source": []
  },
  {
   "cell_type": "code",
   "execution_count": null,
   "metadata": {},
   "outputs": [],
   "source": []
  },
  {
   "cell_type": "code",
   "execution_count": null,
   "metadata": {},
   "outputs": [],
   "source": []
  },
  {
   "cell_type": "code",
   "execution_count": null,
   "metadata": {},
   "outputs": [],
   "source": []
  },
  {
   "cell_type": "code",
   "execution_count": null,
   "metadata": {},
   "outputs": [],
   "source": []
  },
  {
   "cell_type": "code",
   "execution_count": null,
   "metadata": {},
   "outputs": [],
   "source": []
  }
 ],
 "metadata": {
  "kernelspec": {
   "display_name": "Python 3",
   "language": "python",
   "name": "python3"
  },
  "language_info": {
   "codemirror_mode": {
    "name": "ipython",
    "version": 3
   },
   "file_extension": ".py",
   "mimetype": "text/x-python",
   "name": "python",
   "nbconvert_exporter": "python",
   "pygments_lexer": "ipython3",
   "version": "3.7.3"
  }
 },
 "nbformat": 4,
 "nbformat_minor": 2
}
