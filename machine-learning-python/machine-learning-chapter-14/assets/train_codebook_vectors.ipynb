{
  "cells": [
    {
      "cell_type": "code",
      "metadata": {},
      "source": [
        "# Example of training a set of codebook vectors\n",
        "from math import sqrt\n",
        "from random import randrange\n",
        "from random import seed\n"
      ],
      "outputs": [],
      "execution_count": null
    },
    {
      "cell_type": "markdown",
      "metadata": {},
      "source": [
        "## Training Codebook Vectors\n",
        "The first step in training a set of codebook vectors is to initialize the set. We can initialize it with\n",
        "patterns constructed from random features in the training dataset. Below is a function named\n",
        "random codebook() that implements this. Random input and output features are selected from\n",
        "the training data.\n",
        "\n",
        "After the codebook vectors are initialized to a random set, they must be adapted to best summarize the training data. \n",
        "This is done iteratively.\n",
        "\n",
        "- **Epochs:** At the top level, the process is repeated for a fixed number of epochs or exposures\n",
        "of the training data.\n",
        "- **Training Dataset:** Within an epoch, each training pattern is used one at a time to\n",
        "update the set of codebook vectors.\n",
        "- **Pattern Features:** For a given training pattern, each feature of a best matching codebook\n",
        "vector is updated to move it closer or further away."
      ]
    },
    {
      "cell_type": "code",
      "metadata": {},
      "source": [
        "# calculate the Euclidean distance between two vectors\n",
        "def euclidean_distance(row1, row2):\n",
        "\tdistance = 0.0\n",
        "\tfor i in range(len(row1)-1):\n",
        "\t\tdistance += (row1[i] - row2[i])**2\n",
        "\treturn sqrt(distance)\n",
        "\n",
        "# Locate the best matching unit\n",
        "def get_best_matching_unit(codebooks, test_row):\n",
        "\tdistances = list()\n",
        "\tfor codebook in codebooks:\n",
        "\t\tdist = euclidean_distance(codebook, test_row)\n",
        "\t\tdistances.append((codebook, dist))\n",
        "\tdistances.sort(key=lambda tup: tup[1])\n",
        "\treturn distances[0][0]\n",
        "\n",
        "# Create a random codebook vector\n",
        "def random_codebook(train):\n",
        "\tn_records = len(train)\n",
        "\tn_features = len(train[0])\n",
        "\tcodebook = [train[randrange(n_records)][i] for i in range(n_features)]\n",
        "\treturn codebook\n"
      ],
      "outputs": [],
      "execution_count": null
    },
    {
      "cell_type": "markdown",
      "metadata": {},
      "source": [
        "Below is a function named train codebooks()\n",
        "implements the procedure for training a set of codebook vectors given a training dataset. The\n",
        "function takes 3 additional arguments to the training dataset, the number of codebook vectors\n",
        "to create and train, the initial learning rate and the number of epochs for which to train the\n",
        "codebook vectors."
      ]
    },
    {
      "cell_type": "code",
      "metadata": {},
      "source": [
        "# Train a set of codebook vectors\n",
        "def train_codebooks(train, n_codebooks, lrate, epochs):\n",
        "\tcodebooks = [random_codebook(train) for i in range(n_codebooks)]\n",
        "\tfor epoch in range(epochs):\n",
        "\t\trate = lrate * (1.0-(epoch/float(epochs)))\n",
        "\t\tsum_error = 0.0\n",
        "\t\tfor row in train:\n",
        "\t\t\tbmu = get_best_matching_unit(codebooks, row)\n",
        "\t\t\tfor i in range(len(row)-1):\n",
        "\t\t\t\terror = row[i] - bmu[i]\n",
        "\t\t\t\tsum_error += error**2\n",
        "\t\t\t\tif bmu[-1] == row[-1]:\n",
        "\t\t\t\t\tbmu[i] += rate * error\n",
        "\t\t\t\telse:\n",
        "\t\t\t\t\tbmu[i] -= rate * error\n",
        "\t\tprint('>epoch=%d, lrate=%.3f, error=%.3f' % (epoch, rate, sum_error))\n",
        "\treturn codebooks\n"
      ],
      "outputs": [],
      "execution_count": null
    },
    {
      "cell_type": "markdown",
      "metadata": {},
      "source": [
        "Running this example trains a set of 2 codebook vectors for 10 epochs with an initial learning\n",
        "rate of 0.3. The details are printed each epoch and the set of 2 codebook vectors learned\n",
        "from the training data is displayed. We can see that the changes to learning rate meet our\n",
        "expectations explored above for each epoch. We can also see that the sum squared error each\n",
        "epoch does continue to drop at the end of training and that there may be an opportunity to\n",
        "tune the example further to achieve less error."
      ]
    },
    {
      "cell_type": "code",
      "metadata": {},
      "source": [
        "# Test the training function\n",
        "seed(1)\n",
        "dataset = [[2.7810836,2.550537003,0],\n",
        "\t[1.465489372,2.362125076,0],\n",
        "\t[3.396561688,4.400293529,0],\n",
        "\t[1.38807019,1.850220317,0],\n",
        "\t[3.06407232,3.005305973,0],\n",
        "\t[7.627531214,2.759262235,1],\n",
        "\t[5.332441248,2.088626775,1],\n",
        "\t[6.922596716,1.77106367,1],\n",
        "\t[8.675418651,-0.242068655,1],\n",
        "\t[7.673756466,3.508563011,1]]\n",
        "learn_rate = 0.3\n",
        "n_epochs = 10\n",
        "n_codebooks = 2\n",
        "codebooks = train_codebooks(dataset, n_codebooks, learn_rate, n_epochs)\n",
        "print('Codebooks: %s' % codebooks)"
      ],
      "outputs": [],
      "execution_count": null
    }
  ],
  "metadata": {
    "anaconda-cloud": {},
    "kernelspec": {
      "display_name": "Python 3",
      "language": "python",
      "name": "python3"
    },
    "language_info": {
      "codemirror_mode": {
        "name": "ipython",
        "version": 3
      },
      "file_extension": ".py",
      "mimetype": "text/x-python",
      "name": "python",
      "nbconvert_exporter": "python",
      "pygments_lexer": "ipython3",
      "version": "3.6.1"
    }
  },
  "nbformat": 4,
  "nbformat_minor": 1
}