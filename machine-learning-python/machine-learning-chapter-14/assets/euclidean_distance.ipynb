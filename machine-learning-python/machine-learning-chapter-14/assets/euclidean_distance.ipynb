{
  "cells": [
    {
      "cell_type": "code",
      "metadata": {},
      "source": [
        "# Example of calculating Euclidean distance\n",
        "from math import sqrt"
      ],
      "outputs": [],
      "execution_count": null
    },
    {
      "cell_type": "markdown",
      "metadata": {},
      "source": [
        "## Euclidean Distance\n",
        "The first step needed is to calculate the distance between two rows in a dataset. Rows of data\n",
        "are mostly made up of numbers and an easy way to calculate the distance between two rows or\n",
        "vectors of numbers is to draw a straight line. This makes sense in 2D or 3D and scales nicely\n",
        "to higher dimensions. We can calculate the straight line distance between two vectors using\n",
        "the Euclidean distance measure. It is calculated as the square root of the sum of the squared\n",
        "differences between the two vectors.<br />\n",
        "\n",
        "Where x1 is the first row of data, x2 is the second row of data and i is the index to a specific\n",
        "column as we sum across all columns. With Euclidean distance, the smaller the value, the more\n",
        "similar two records will be. A value of 0 means that there is no difference between two records.\n",
        "Below is a function named euclidean distance() that implements this in Python."
      ]
    },
    {
      "cell_type": "code",
      "metadata": {},
      "source": [
        "# calculate the Euclidean distance between two vectors\n",
        "def euclidean_distance(row1, row2):\n",
        "\tdistance = 0.0\n",
        "\tfor i in range(len(row1)-1):\n",
        "\t\tdistance += (row1[i] - row2[i])**2\n",
        "\treturn sqrt(distance)\n"
      ],
      "outputs": [],
      "execution_count": null
    },
    {
      "cell_type": "markdown",
      "metadata": {},
      "source": [
        "Let's test a small example to test our distance function by printing the distance between the first row and all other rows. We would expect the \n",
        "distance between the first row and itself to be 0, a good thing to look out for.<br />\n",
        "\n",
        "Running this example prints the distances between the first row and every row in the dataset,\n",
        "including itself"
      ]
    },
    {
      "cell_type": "code",
      "metadata": {},
      "source": [
        "# Test distance function\n",
        "dataset = [[2.7810836,2.550537003,0],\n",
        "\t[1.465489372,2.362125076,0],\n",
        "\t[3.396561688,4.400293529,0],\n",
        "\t[1.38807019,1.850220317,0],\n",
        "\t[3.06407232,3.005305973,0],\n",
        "\t[7.627531214,2.759262235,1],\n",
        "\t[5.332441248,2.088626775,1],\n",
        "\t[6.922596716,1.77106367,1],\n",
        "\t[8.675418651,-0.242068655,1],\n",
        "\t[7.673756466,3.508563011,1]]\n",
        "row0 = dataset[0]\n",
        "for row in dataset:\n",
        "\tdistance = euclidean_distance(row0, row)\n",
        "\tprint(distance)"
      ],
      "outputs": [],
      "execution_count": null
    }
  ],
  "metadata": {
    "anaconda-cloud": {},
    "kernelspec": {
      "display_name": "Python 3",
      "language": "python",
      "name": "python3"
    },
    "language_info": {
      "codemirror_mode": {
        "name": "ipython",
        "version": 3
      },
      "file_extension": ".py",
      "mimetype": "text/x-python",
      "name": "python",
      "nbconvert_exporter": "python",
      "pygments_lexer": "ipython3",
      "version": "3.6.1"
    }
  },
  "nbformat": 4,
  "nbformat_minor": 1
}