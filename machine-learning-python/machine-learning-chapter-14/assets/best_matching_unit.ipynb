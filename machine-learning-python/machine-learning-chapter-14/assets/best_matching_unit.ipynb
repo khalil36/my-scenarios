{
  "cells": [
    {
      "cell_type": "code",
      "metadata": {},
      "source": [
        "# Example of getting the BMU\n",
        "from math import sqrt\n"
      ],
      "outputs": [],
      "execution_count": null
    },
    {
      "cell_type": "markdown",
      "metadata": {},
      "source": [
        "## Best Matching Unit\n",
        "The Best Matching Unit or BMU is the codebook vector that is most similar to a new piece of\n",
        "data. To locate the BMU for a new piece of data within a dataset we must first calculate the\n",
        "distance between each codebook to the new piece of data. We can do this using our distance\n",
        "function above. Once distances are calculated, we must sort all of the codebooks by their\n",
        "distance to the new data. We can then return the first or most similar codebook vector. <br />\n",
        "\n",
        "We can do this by keeping track of the distance for each record in the dataset as a tuple,\n",
        "sort the list of tuples by the distance (in descending order) and then retrieve the BMU. Below\n",
        "is a function named **get_best_matching_unit()** that implements this."
      ]
    },
    {
      "cell_type": "markdown",
      "metadata": {},
      "source": [
        "Below function nemed euclidean_distance() developed in the previous step is used\n",
        "to calculate the distance between each codebook and the new test row. "
      ]
    },
    {
      "cell_type": "code",
      "metadata": {},
      "source": [
        "# calculate the Euclidean distance between two vectors\n",
        "def euclidean_distance(row1, row2):\n",
        "\tdistance = 0.0\n",
        "\tfor i in range(len(row1)-1):\n",
        "\t\tdistance += (row1[i] - row2[i])**2\n",
        "\treturn sqrt(distance)\n",
        "\n",
        "\n",
        "# Locate the best matching unit\n",
        "def get_best_matching_unit(codebooks, test_row):\n",
        "\tdistances = list()\n",
        "\tfor codebook in codebooks:\n",
        "\t\tdist = euclidean_distance(codebook, test_row)\n",
        "\t\tdistances.append((codebook, dist))\n",
        "\tdistances.sort(key=lambda tup: tup[1])\n",
        "\treturn distances[0][0]\n",
        "\n"
      ],
      "outputs": [],
      "execution_count": null
    },
    {
      "cell_type": "markdown",
      "metadata": {},
      "source": [
        "Running this example prints the BMU in the dataset to the first record. As expected, the\n",
        "first record is the most similar to itself and is at the top of the list."
      ]
    },
    {
      "cell_type": "code",
      "metadata": {},
      "source": [
        "# Test best matching unit function\n",
        "dataset = [[2.7810836,2.550537003,0],\n",
        "\t[1.465489372,2.362125076,0],\n",
        "\t[3.396561688,4.400293529,0],\n",
        "\t[1.38807019,1.850220317,0],\n",
        "\t[3.06407232,3.005305973,0],\n",
        "\t[7.627531214,2.759262235,1],\n",
        "\t[5.332441248,2.088626775,1],\n",
        "\t[6.922596716,1.77106367,1],\n",
        "\t[8.675418651,-0.242068655,1],\n",
        "\t[7.673756466,3.508563011,1]]\n",
        "test_row = dataset[0]\n",
        "bmu = get_best_matching_unit(dataset, test_row)\n",
        "print(bmu)"
      ],
      "outputs": [],
      "execution_count": null
    }
  ],
  "metadata": {
    "anaconda-cloud": {},
    "kernelspec": {
      "display_name": "Python 3",
      "language": "python",
      "name": "python3"
    },
    "language_info": {
      "codemirror_mode": {
        "name": "ipython",
        "version": 3
      },
      "file_extension": ".py",
      "mimetype": "text/x-python",
      "name": "python",
      "nbconvert_exporter": "python",
      "pygments_lexer": "ipython3",
      "version": "3.6.1"
    }
  },
  "nbformat": 4,
  "nbformat_minor": 1
}