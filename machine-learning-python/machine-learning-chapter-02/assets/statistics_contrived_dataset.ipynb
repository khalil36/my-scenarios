{
  "nbformat_minor": 1, 
  "nbformat": 4, 
  "cells": [
    {
      "source": [
        "# Example of calculating stats on a contrived dataset\n", 
        "from math import sqrt\n"
      ], 
      "cell_type": "code", 
      "execution_count": null, 
      "outputs": [], 
      "metadata": {}
    }, 
    {
      "source": [
        "## Standardize Data\n", 
        "Standardization is a rescaling technique that refers to centering the distribution of the data on\n", 
        "the value 0 and the standard deviation to the value 1. Together, the mean and the standard\n", 
        "deviation can be used to summarize a normal distribution, also called the Gaussian distribution\n", 
        "or bell curve."
      ], 
      "cell_type": "markdown", 
      "metadata": {}
    }, 
    {
      "source": [
        "Let\u2019s start with creating functions to estimate the mean and standard deviation statistics for each column from a dataset. The mean describes\n", 
        "the middle or central tendency for a collection of numbers. The mean for a column is calculated\n", 
        "as the sum of all values for a column divided by the total number of values.\n", 
        "\n", 
        "The function below named column means() calculates the mean values for each column in\n", 
        "the dataset"
      ], 
      "cell_type": "markdown", 
      "metadata": {}
    }, 
    {
      "source": [
        "# calculate column means\n", 
        "def column_means(dataset):\n", 
        "\tmeans = [0 for i in range(len(dataset[0]))]\n", 
        "\tfor i in range(len(dataset[0])):\n", 
        "\t\tcol_values = [row[i] for row in dataset]\n", 
        "\t\tmeans[i] = sum(col_values) / float(len(dataset))\n", 
        "\treturn means"
      ], 
      "cell_type": "code", 
      "execution_count": null, 
      "outputs": [], 
      "metadata": {}
    }, 
    {
      "source": [
        "The function below named column stdevs() calculates the standard deviation of values for\n", 
        "each column in the dataset and assumes the means have already been calculated"
      ], 
      "cell_type": "markdown", 
      "metadata": {}
    }, 
    {
      "source": [
        "# calculate column standard deviations\n", 
        "def column_stdevs(dataset, means):\n", 
        "\tstdevs = [0 for i in range(len(dataset[0]))]\n", 
        "\tfor i in range(len(dataset[0])):\n", 
        "\t\tvariance = [pow(row[i]-means[i], 2) for row in dataset]\n", 
        "\t\tstdevs[i] = sum(variance)\n", 
        "\tstdevs = [sqrt(x/(float(len(dataset)-1))) for x in stdevs]\n", 
        "\treturn stdevs\n"
      ], 
      "cell_type": "code", 
      "execution_count": null, 
      "outputs": [], 
      "metadata": {}
    }, 
    {
      "source": [
        "Using the contrived dataset, we can estimate the summary statistics."
      ], 
      "cell_type": "markdown", 
      "metadata": {}
    }, 
    {
      "source": [
        "# Standardize dataset\n", 
        "dataset = [[50, 30], [20, 90], [30, 50]]\n", 
        "print(dataset)\n", 
        "# Estimate mean and standard deviation\n", 
        "means = column_means(dataset)\n", 
        "stdevs = column_stdevs(dataset, means)\n", 
        "print(means)\n", 
        "print(stdevs)"
      ], 
      "cell_type": "code", 
      "execution_count": null, 
      "outputs": [], 
      "metadata": {}
    }
  ], 
  "metadata": {
    "kernelspec": {
      "display_name": "Python 3", 
      "name": "python3", 
      "language": "python"
    }, 
    "language_info": {
      "mimetype": "text/x-python", 
      "nbconvert_exporter": "python", 
      "name": "python", 
      "file_extension": ".py", 
      "version": "3.6.1", 
      "pygments_lexer": "ipython3", 
      "codemirror_mode": {
        "version": 3, 
        "name": "ipython"
      }
    }, 
    "anaconda-cloud": {}
  }
}