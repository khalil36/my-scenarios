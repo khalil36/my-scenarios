{
  "nbformat_minor": 1, 
  "nbformat": 4, 
  "cells": [
    {
      "source": [
        "## Normalize Data\n", 
        "Normalization can refer to different techniques depending on context. Here, we use normalization\n", 
        "to refer to rescaling an input variable to the range between 0 and 1. Normalization requires\n", 
        "that you know the minimum and maximum values for each attribute.\n", 
        "\n", 
        "You can easily estimate the minimum and maximum values for each\n", 
        "attribute in a dataset by enumerating through the values. The snippet of code below defines\n", 
        "the dataset minmax() function that calculates the min and max value for each attribute in a\n", 
        "dataset, then returns an array of these minimum and maximum values."
      ], 
      "cell_type": "markdown", 
      "metadata": {}
    }, 
    {
      "source": [
        "# Find the min and max values for each column\n", 
        "def dataset_minmax(dataset):\n", 
        "\tminmax = list()\n", 
        "\tfor i in range(len(dataset[0])):\n", 
        "\t\tcol_values = [row[i] for row in dataset]\n", 
        "\t\tvalue_min = min(col_values)\n", 
        "\t\tvalue_max = max(col_values)\n", 
        "\t\tminmax.append([value_min, value_max])\n", 
        "\treturn minmax\n"
      ], 
      "cell_type": "code", 
      "execution_count": null, 
      "outputs": [], 
      "metadata": {}
    }, 
    {
      "source": [
        "With this contrived dataset, we can test our function for calculating the min and max for\n", 
        "each column."
      ], 
      "cell_type": "markdown", 
      "metadata": {}
    }, 
    {
      "source": [
        "# Contrive small dataset\n", 
        "dataset = [[50, 30], [20, 90]]\n", 
        "print(dataset)\n", 
        "# Calculate min and max for each column\n", 
        "minmax = dataset_minmax(dataset)\n", 
        "print(minmax)"
      ], 
      "cell_type": "code", 
      "execution_count": null, 
      "outputs": [], 
      "metadata": {}
    }
  ], 
  "metadata": {
    "kernelspec": {
      "display_name": "Python 3", 
      "name": "python3", 
      "language": "python"
    }, 
    "language_info": {
      "mimetype": "text/x-python", 
      "nbconvert_exporter": "python", 
      "name": "python", 
      "file_extension": ".py", 
      "version": "3.6.1", 
      "pygments_lexer": "ipython3", 
      "codemirror_mode": {
        "version": 3, 
        "name": "ipython"
      }
    }, 
    "anaconda-cloud": {}
  }
}