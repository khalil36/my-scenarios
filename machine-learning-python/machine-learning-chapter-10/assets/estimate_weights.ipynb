{
  "nbformat_minor": 1, 
  "nbformat": 4, 
  "cells": [
    {
      "source": [
        "## Making Predictions\n", 
        "The first step is to develop a function that can make predictions. This will be needed both in\n", 
        "the evaluation of candidate weight values in stochastic gradient descent, and after the model is\n", 
        "finalized and we wish to start making predictions on test data or new data. Below is a function\n", 
        "named predict() that predicts an output value for a row given a set of weights. The first\n", 
        "weight is always the bias as it is standalone and not responsible for a specific input value."
      ], 
      "cell_type": "markdown", 
      "metadata": {}
    }, 
    {
      "source": [
        "# Make a prediction with weights\n", 
        "def predict(row, weights):\n", 
        "\tactivation = weights[0]\n", 
        "\tfor i in range(len(row)-1):\n", 
        "\t\tactivation += weights[i + 1] * row[i]\n", 
        "\treturn 1.0 if activation >= 0.0 else 0.0\n", 
        "\n"
      ], 
      "cell_type": "code", 
      "execution_count": null, 
      "outputs": [], 
      "metadata": {}
    }, 
    {
      "source": [
        "## Training Network Weights\n", 
        "We can estimate the weight values for our training data using stochastic gradient descent.\n", 
        "Stochastic gradient descent requires two parameters:\n", 
        "- **Learning Rate:**: Used to limit the amount each weight is corrected each time it is\n", 
        "updated.\n", 
        "- **Epochs:** The number of times to run through the training data while updating the weight.\n", 
        "These, along with the training data will be the arguments to the function. There are 3 loops\n", 
        "we need to perform in the function:"
      ], 
      "cell_type": "markdown", 
      "metadata": {}
    }, 
    {
      "source": [
        "# Estimate Perceptron weights using stochastic gradient descent\n", 
        "def train_weights(train, l_rate, n_epoch):\n", 
        "\tweights = [0.0 for i in range(len(train[0]))]\n", 
        "\tfor epoch in range(n_epoch):\n", 
        "\t\tsum_error = 0.0\n", 
        "\t\tfor row in train:\n", 
        "\t\t\tprediction = predict(row, weights)\n", 
        "\t\t\terror = row[-1] - prediction\n", 
        "\t\t\tsum_error += error**2\n", 
        "\t\t\tweights[0] = weights[0] + l_rate * error\n", 
        "\t\t\tfor i in range(len(row)-1):\n", 
        "\t\t\t\tweights[i + 1] = weights[i + 1] + l_rate * error * row[i]\n", 
        "\t\tprint('>epoch=%d, lrate=%.3f, error=%.3f' % (epoch, l_rate, sum_error))\n", 
        "\treturn weights"
      ], 
      "cell_type": "code", 
      "execution_count": null, 
      "outputs": [], 
      "metadata": {}
    }, 
    {
      "source": [
        "We will use a learning rate of 0.1 and train the model for only 5 epochs, or 5 exposures of the\n", 
        "weights to the entire training dataset. Running the example below prints a message each epoch with\n", 
        "the sum squared error for that epoch and the final set of weights."
      ], 
      "cell_type": "markdown", 
      "metadata": {}
    }, 
    {
      "source": [
        "# Calculate weights\n", 
        "dataset = [[2.7810836,2.550537003,0],\n", 
        "\t[1.465489372,2.362125076,0],\n", 
        "\t[3.396561688,4.400293529,0],\n", 
        "\t[1.38807019,1.850220317,0],\n", 
        "\t[3.06407232,3.005305973,0],\n", 
        "\t[7.627531214,2.759262235,1],\n", 
        "\t[5.332441248,2.088626775,1],\n", 
        "\t[6.922596716,1.77106367,1],\n", 
        "\t[8.675418651,-0.242068655,1],\n", 
        "\t[7.673756466,3.508563011,1]]\n", 
        "l_rate = 0.1\n", 
        "n_epoch = 5\n", 
        "weights = train_weights(dataset, l_rate, n_epoch)\n", 
        "print(weights)\n"
      ], 
      "cell_type": "code", 
      "execution_count": null, 
      "outputs": [], 
      "metadata": {}
    }, 
    {
      "source": [
        "You can see how the problem is learned very quickly by the algorithm."
      ], 
      "cell_type": "markdown", 
      "metadata": {}
    }
  ], 
  "metadata": {
    "kernelspec": {
      "display_name": "Python 3", 
      "name": "python3", 
      "language": "python"
    }, 
    "language_info": {
      "mimetype": "text/x-python", 
      "nbconvert_exporter": "python", 
      "name": "python", 
      "file_extension": ".py", 
      "version": "3.6.1", 
      "pygments_lexer": "ipython3", 
      "codemirror_mode": {
        "version": 3, 
        "name": "ipython"
      }
    }, 
    "anaconda-cloud": {}
  }
}