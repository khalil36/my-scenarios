{
  "nbformat_minor": 1, 
  "nbformat": 4, 
  "cells": [
    {
      "source": [
        "## Making Predictions\n", 
        "The first step is to develop a function that can make predictions. This will be needed both in\n", 
        "the evaluation of candidate weight values in stochastic gradient descent, and after the model is\n", 
        "finalized and we wish to start making predictions on test data or new data. Below is a function\n", 
        "named predict() that predicts an output value for a row given a set of weights. The first\n", 
        "weight is always the bias as it is standalone and not responsible for a specific input value."
      ], 
      "cell_type": "markdown", 
      "metadata": {}
    }, 
    {
      "source": [
        "# Make a prediction with weights\n", 
        "def predict(row, weights):\n", 
        "\tactivation = weights[0]\n", 
        "\tfor i in range(len(row)-1):\n", 
        "\t\tactivation += weights[i + 1] * row[i]\n", 
        "\treturn 1.0 if activation >= 0.0 else 0.0\n"
      ], 
      "cell_type": "code", 
      "execution_count": null, 
      "outputs": [], 
      "metadata": {}
    }, 
    {
      "source": [
        "There are two inputs values (X1 and X2) and three weight values (bias, w1 and w2). The\n", 
        "activation equation we have modeled for this problem is:<br />\n", 
        "activation = (w1 \u00d7 X1) + (w2 \u00d7 X2) + bias (10.4)<br />\n", 
        "Or, with the specific weight values we chose by hand as:<br />\n", 
        "activation = (0:206 \u00d7 X1) + (\u22120:234 \u00d7 X2) + \u22120:1 (10.5)<br />\n", 
        "Running this function we get predictions that match the expected output (y) values."
      ], 
      "cell_type": "markdown", 
      "metadata": {}
    }, 
    {
      "source": [
        "# test predictions\n", 
        "dataset = [[2.7810836,2.550537003,0],\n", 
        "\t[1.465489372,2.362125076,0],\n", 
        "\t[3.396561688,4.400293529,0],\n", 
        "\t[1.38807019,1.850220317,0],\n", 
        "\t[3.06407232,3.005305973,0],\n", 
        "\t[7.627531214,2.759262235,1],\n", 
        "\t[5.332441248,2.088626775,1],\n", 
        "\t[6.922596716,1.77106367,1],\n", 
        "\t[8.675418651,-0.242068655,1],\n", 
        "\t[7.673756466,3.508563011,1]]\n", 
        "weights = [-0.1, 0.20653640140000007, -0.23418117710000003]\n", 
        "for row in dataset:\n", 
        "\tprediction = predict(row, weights)\n", 
        "\tprint(\"Expected=%d, Predicted=%d\" % (row[-1], prediction))"
      ], 
      "cell_type": "code", 
      "execution_count": null, 
      "outputs": [], 
      "metadata": {}
    }
  ], 
  "metadata": {
    "kernelspec": {
      "display_name": "Python 3", 
      "name": "python3", 
      "language": "python"
    }, 
    "language_info": {
      "mimetype": "text/x-python", 
      "nbconvert_exporter": "python", 
      "name": "python", 
      "file_extension": ".py", 
      "version": "3.6.1", 
      "pygments_lexer": "ipython3", 
      "codemirror_mode": {
        "version": 3, 
        "name": "ipython"
      }
    }, 
    "anaconda-cloud": {}
  }
}