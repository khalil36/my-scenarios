{
  "nbformat_minor": 1, 
  "nbformat": 4, 
  "cells": [
    {
      "source": [
        "\n", 
        "# %%\n", 
        "# Calculate the mean value of a list of numbers\n", 
        "def mean(values):\n", 
        "\treturn sum(values) / float(len(values))\n", 
        "\n", 
        "# Calculate the variance of a list of numbers\n", 
        "def variance(values, mean):\n", 
        "\treturn sum([(x-mean)**2 for x in values])\n"
      ], 
      "cell_type": "code", 
      "execution_count": null, 
      "outputs": [], 
      "metadata": {}
    }, 
    {
      "source": [
        "We can calculate the mean and variance for both the x and y values in the example below."
      ], 
      "cell_type": "markdown", 
      "metadata": {}
    }, 
    {
      "source": [
        "# calculate mean and variance\n", 
        "dataset = [[1, 1], [2, 3], [4, 3], [3, 2], [5, 5]]\n", 
        "x = [row[0] for row in dataset]\n", 
        "y = [row[1] for row in dataset]\n", 
        "mean_x, mean_y = mean(x), mean(y)\n", 
        "var_x, var_y = variance(x, mean_x), variance(y, mean_y)\n", 
        "print('x stats: mean=%.3f variance=%.3f' % (mean_x, var_x))\n", 
        "print('y stats: mean=%.3f variance=%.3f' % (mean_y, var_y))"
      ], 
      "cell_type": "code", 
      "execution_count": null, 
      "outputs": [], 
      "metadata": {}
    }
  ], 
  "metadata": {
    "kernelspec": {
      "display_name": "Python 3", 
      "name": "python3", 
      "language": "python"
    }, 
    "language_info": {
      "mimetype": "text/x-python", 
      "nbconvert_exporter": "python", 
      "name": "python", 
      "file_extension": ".py", 
      "version": "3.6.1", 
      "pygments_lexer": "ipython3", 
      "codemirror_mode": {
        "version": 3, 
        "name": "ipython"
      }
    }, 
    "anaconda-cloud": {}
  }
}