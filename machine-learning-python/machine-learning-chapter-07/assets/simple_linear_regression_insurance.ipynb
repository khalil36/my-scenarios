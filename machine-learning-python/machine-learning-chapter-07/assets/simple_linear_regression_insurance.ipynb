{
  "nbformat_minor": 1, 
  "nbformat": 4, 
  "cells": [
    {
      "source": [
        "# Example of Simple Linear Regression on the Swedish Insurance Dataset\n", 
        "from random import seed\n", 
        "from random import randrange\n", 
        "from csv import reader\n", 
        "from math import sqrt\n"
      ], 
      "cell_type": "code", 
      "execution_count": null, 
      "outputs": [], 
      "metadata": {}
    }, 
    {
      "source": [
        "## Swedish Auto Insurance Case Study\n", 
        "Lets apply simple linear regression to the Swedish insurance dataset. We will add some\n", 
        "convenience functions to the simple linear regression from the previous steps.\n", 
        "Specifically a function to load the CSV file called load csv(), a function to convert a\n", 
        "loaded dataset to numbers called str column to float(), a function to evaluate an algorithm\n", 
        "using a train and test set called train test split() a function to calculate RMSE called\n", 
        "rmse metric() and a function to evaluate an algorithm called evaluate algorithm(). \n", 
        "A training dataset of 60% of the data is used to repare the model and predictions are made on the\n", 
        "remaining 40%."
      ], 
      "cell_type": "markdown", 
      "metadata": {}
    }, 
    {
      "source": [
        "# Load a CSV file\n", 
        "def load_csv(filename):\n", 
        "\tdataset = list()\n", 
        "\twith open(filename, 'r') as file:\n", 
        "\t\tcsv_reader = reader(file)\n", 
        "\t\tfor row in csv_reader:\n", 
        "\t\t\tif not row:\n", 
        "\t\t\t\tcontinue\n", 
        "\t\t\tdataset.append(row)\n", 
        "\treturn dataset\n", 
        "\n", 
        "# Convert string column to float\n", 
        "def str_column_to_float(dataset, column):\n", 
        "\tfor row in dataset:\n", 
        "\t\trow[column] = float(row[column].strip())\n", 
        "\n", 
        "# Split a dataset into a train and test set\n", 
        "def train_test_split(dataset, split):\n", 
        "\ttrain = list()\n", 
        "\ttrain_size = split * len(dataset)\n", 
        "\tdataset_copy = list(dataset)\n", 
        "\twhile len(train) < train_size:\n", 
        "\t\tindex = randrange(len(dataset_copy))\n", 
        "\t\ttrain.append(dataset_copy.pop(index))\n", 
        "\treturn train, dataset_copy\n", 
        "\n", 
        "# Calculate root mean squared error\n", 
        "def rmse_metric(actual, predicted):\n", 
        "\tsum_error = 0.0\n", 
        "\tfor i in range(len(actual)):\n", 
        "\t\tprediction_error = predicted[i] - actual[i]\n", 
        "\t\tsum_error += (prediction_error ** 2)\n", 
        "\tmean_error = sum_error / float(len(actual))\n", 
        "\treturn sqrt(mean_error)\n", 
        "\n", 
        "# Evaluate an algorithm using a train/test split\n", 
        "def evaluate_algorithm(dataset, algorithm, split, *args):\n", 
        "\ttrain, test = train_test_split(dataset, split)\n", 
        "\ttest_set = list()\n", 
        "\tfor row in test:\n", 
        "\t\trow_copy = list(row)\n", 
        "\t\trow_copy[-1] = None\n", 
        "\t\ttest_set.append(row_copy)\n", 
        "\tpredicted = algorithm(train, test_set, *args)\n", 
        "\tactual = [row[-1] for row in test]\n", 
        "\trmse = rmse_metric(actual, predicted)\n", 
        "\treturn rmse\n", 
        "\n", 
        "# Calculate the mean value of a list of numbers\n", 
        "def mean(values):\n", 
        "\treturn sum(values) / float(len(values))\n", 
        "\n", 
        "# Calculate covariance between x and y\n", 
        "def covariance(x, mean_x, y, mean_y):\n", 
        "\tcovar = 0.0\n", 
        "\tfor i in range(len(x)):\n", 
        "\t\tcovar += (x[i] - mean_x) * (y[i] - mean_y)\n", 
        "\treturn covar\n", 
        "\n", 
        "# Calculate the variance of a list of numbers\n", 
        "def variance(values, mean):\n", 
        "\treturn sum([(x-mean)**2 for x in values])\n", 
        "\n", 
        "# Calculate coefficients\n", 
        "def coefficients(dataset):\n", 
        "\tx = [row[0] for row in dataset]\n", 
        "\ty = [row[1] for row in dataset]\n", 
        "\tx_mean, y_mean = mean(x), mean(y)\n", 
        "\tb1 = covariance(x, x_mean, y, y_mean) / variance(x, x_mean)\n", 
        "\tb0 = y_mean - b1 * x_mean\n", 
        "\treturn [b0, b1]\n"
      ], 
      "cell_type": "code", 
      "execution_count": null, 
      "outputs": [], 
      "metadata": {}
    }, 
    {
      "source": [
        "# Simple linear regression algorithm\n", 
        "def simple_linear_regression(train, test):\n", 
        "\tpredictions = list()\n", 
        "\tb0, b1 = coefficients(train)\n", 
        "\tfor row in test:\n", 
        "\t\tyhat = b0 + b1 * row[0]\n", 
        "\t\tpredictions.append(yhat)\n", 
        "\treturn predictions\n"
      ], 
      "cell_type": "code", 
      "execution_count": null, 
      "outputs": [], 
      "metadata": {}
    }, 
    {
      "source": [
        "Running the algorithm will print the RMSE for the trained model on the training dataset. A\n", 
        "score of about 33 (thousands of Kronor) is achieved, which is much better than the baseline\n", 
        "performance of 72 (thousands of Kronor) on the same problem."
      ], 
      "cell_type": "markdown", 
      "metadata": {}
    }, 
    {
      "source": [
        "# Simple linear regression on insurance dataset\n", 
        "seed(1)\n", 
        "# load and prepare data\n", 
        "filename = 'insurance.csv'\n", 
        "dataset = load_csv(filename)\n", 
        "for i in range(len(dataset[0])):\n", 
        "\tstr_column_to_float(dataset, i)\n", 
        "# evaluate algorithm\n", 
        "split = 0.6\n", 
        "rmse = evaluate_algorithm(dataset, simple_linear_regression, split)\n", 
        "print('RMSE: %.3f' % (rmse))\n"
      ], 
      "cell_type": "code", 
      "execution_count": null, 
      "outputs": [], 
      "metadata": {}
    }
  ], 
  "metadata": {
    "kernelspec": {
      "display_name": "Python 3", 
      "name": "python3", 
      "language": "python"
    }, 
    "language_info": {
      "mimetype": "text/x-python", 
      "nbconvert_exporter": "python", 
      "name": "python", 
      "file_extension": ".py", 
      "version": "3.6.1", 
      "pygments_lexer": "ipython3", 
      "codemirror_mode": {
        "version": 3, 
        "name": "ipython"
      }
    }, 
    "anaconda-cloud": {}
  }
}