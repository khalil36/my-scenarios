{
  "nbformat_minor": 1, 
  "nbformat": 4, 
  "cells": [
    {
      "source": [
        "# Example of Standalone Simple Linear Regression\n", 
        "from math import sqrt"
      ], 
      "cell_type": "code", 
      "execution_count": null, 
      "outputs": [], 
      "metadata": {}
    }, 
    {
      "source": [
        "# Calculate root mean squared error\n", 
        "def rmse_metric(actual, predicted):\n", 
        "\tsum_error = 0.0\n", 
        "\tfor i in range(len(actual)):\n", 
        "\t\tprediction_error = predicted[i] - actual[i]\n", 
        "\t\tsum_error += (prediction_error ** 2)\n", 
        "\tmean_error = sum_error / float(len(actual))\n", 
        "\treturn sqrt(mean_error)\n", 
        "\n", 
        "# Evaluate regression algorithm on training dataset\n", 
        "def evaluate_algorithm(dataset, algorithm):\n", 
        "\ttest_set = list()\n", 
        "\tfor row in dataset:\n", 
        "\t\trow_copy = list(row)\n", 
        "\t\trow_copy[-1] = None\n", 
        "\t\ttest_set.append(row_copy)\n", 
        "\tpredicted = algorithm(dataset, test_set)\n", 
        "\tprint(predicted)\n", 
        "\tactual = [row[-1] for row in dataset]\n", 
        "\trmse = rmse_metric(actual, predicted)\n", 
        "\treturn rmse\n", 
        "\n", 
        "# Calculate the mean value of a list of numbers\n", 
        "def mean(values):\n", 
        "\treturn sum(values) / float(len(values))\n", 
        "\n", 
        "# Calculate covariance between x and y\n", 
        "def covariance(x, mean_x, y, mean_y):\n", 
        "\tcovar = 0.0\n", 
        "\tfor i in range(len(x)):\n", 
        "\t\tcovar += (x[i] - mean_x) * (y[i] - mean_y)\n", 
        "\treturn covar\n", 
        "\n", 
        "# Calculate the variance of a list of numbers\n", 
        "def variance(values, mean):\n", 
        "\treturn sum([(x-mean)**2 for x in values])\n", 
        "\n", 
        "# Calculate coefficients\n", 
        "def coefficients(dataset):\n", 
        "\tx = [row[0] for row in dataset]\n", 
        "\ty = [row[1] for row in dataset]\n", 
        "\tx_mean, y_mean = mean(x), mean(y)\n", 
        "\tb1 = covariance(x, x_mean, y, y_mean) / variance(x, x_mean)\n", 
        "\tb0 = y_mean - b1 * x_mean\n", 
        "\treturn [b0, b1]\n"
      ], 
      "cell_type": "code", 
      "execution_count": null, 
      "outputs": [], 
      "metadata": {}
    }, 
    {
      "source": [
        "Below is a function named simple linear regression() that implements the prediction\n", 
        "equation to make predictions on a test dataset. It also ties together the estimation of the\n", 
        "coefficients on training data from the steps above. The coefficients prepared from the training\n", 
        "data are used to make predictions on the test data, which are then returned."
      ], 
      "cell_type": "markdown", 
      "metadata": {}
    }, 
    {
      "source": [
        "# Simple linear regression algorithm\n", 
        "def simple_linear_regression(train, test):\n", 
        "\tpredictions = list()\n", 
        "\tb0, b1 = coefficients(train)\n", 
        "\tfor row in test:\n", 
        "\t\tyhat = b0 + b1 * row[0]\n", 
        "\t\tpredictions.append(yhat)\n", 
        "\treturn predictions\n"
      ], 
      "cell_type": "code", 
      "execution_count": null, 
      "outputs": [], 
      "metadata": {}
    }, 
    {
      "source": [
        "Now let's make predictions for our simple contrived dataset. As part of this example, we will also add \n", 
        "in a function to manage the evaluation of the predictions called evaluate algorithm() and another \n", 
        "function to estimate the Root Mean Squared Error of the predictions called rmse metric(). "
      ], 
      "cell_type": "markdown", 
      "metadata": {}
    }, 
    {
      "source": [
        "# Test simple linear regression\n", 
        "dataset = [[1, 1], [2, 3], [4, 3], [3, 2], [5, 5]]\n", 
        "rmse = evaluate_algorithm(dataset, simple_linear_regression)\n", 
        "print('RMSE: %.3f' % (rmse))"
      ], 
      "cell_type": "code", 
      "execution_count": null, 
      "outputs": [], 
      "metadata": {}
    }
  ], 
  "metadata": {
    "kernelspec": {
      "display_name": "Python 3", 
      "name": "python3", 
      "language": "python"
    }, 
    "language_info": {
      "mimetype": "text/x-python", 
      "nbconvert_exporter": "python", 
      "name": "python", 
      "file_extension": ".py", 
      "version": "3.6.1", 
      "pygments_lexer": "ipython3", 
      "codemirror_mode": {
        "version": 3, 
        "name": "ipython"
      }
    }, 
    "anaconda-cloud": {}
  }
}