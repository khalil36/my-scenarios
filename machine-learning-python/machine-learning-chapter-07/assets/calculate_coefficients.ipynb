{
  "nbformat_minor": 1, 
  "nbformat": 4, 
  "cells": [
    {
      "source": [
        "# Example of Calculating Coefficients\n", 
        "\n", 
        "# Calculate the mean value of a list of numbers\n", 
        "def mean(values):\n", 
        "\treturn sum(values) / float(len(values))\n", 
        "\n", 
        "# Calculate covariance between x and y\n", 
        "def covariance(x, mean_x, y, mean_y):\n", 
        "\tcovar = 0.0\n", 
        "\tfor i in range(len(x)):\n", 
        "\t\tcovar += (x[i] - mean_x) * (y[i] - mean_y)\n", 
        "\treturn covar\n"
      ], 
      "cell_type": "code", 
      "execution_count": null, 
      "outputs": [], 
      "metadata": {}
    }, 
    {
      "source": [
        "Below is a function named variance() that calculates the variance of a list of numbers. It\n", 
        "requires the mean of the list to be provided as an argument, just so we don\u2019t have to calculate\n", 
        "it more than once."
      ], 
      "cell_type": "markdown", 
      "metadata": {}
    }, 
    {
      "source": [
        "# Calculate the variance of a list of numbers\n", 
        "def variance(values, mean):\n", 
        "\treturn sum([(x-mean)**2 for x in values])\n"
      ], 
      "cell_type": "code", 
      "execution_count": null, 
      "outputs": [], 
      "metadata": {}
    }, 
    {
      "source": [
        "## Estimate Coefficients\n", 
        "We must estimate the values for two coefficients in simple linear regression.\n", 
        "We already have functions to calculate covariance() and variance(). Next, we need to\n", 
        "estimate a value for B0, also called the intercept as it controls the starting point of the line\n", 
        "where it intersects the y-axis.<br />\n", 
        "\tB0 = mean(y) \u2212 B1 \u00d7 mean(x)<br />\n", 
        "Again, we know how to estimate B1 and we have a function to estimate mean(). We can\n", 
        "put all of this together into a function named coefficients() that takes the dataset as an\n", 
        "argument and returns the coefficients."
      ], 
      "cell_type": "markdown", 
      "metadata": {}
    }, 
    {
      "source": [
        "# Calculate coefficients\n", 
        "def coefficients(dataset):\n", 
        "\tx = [row[0] for row in dataset]\n", 
        "\ty = [row[1] for row in dataset]\n", 
        "\tx_mean, y_mean = mean(x), mean(y)\n", 
        "\tb1 = covariance(x, x_mean, y, y_mean) / variance(x, x_mean)\n", 
        "\tb0 = y_mean - b1 * x_mean\n", 
        "\treturn [b0, b1]\n"
      ], 
      "cell_type": "code", 
      "execution_count": null, 
      "outputs": [], 
      "metadata": {}
    }, 
    {
      "source": [
        "Running this example calculates and prints the coefficients. Now that we know how to estimate the coefficients, the next step is to use them"
      ], 
      "cell_type": "markdown", 
      "metadata": {}
    }, 
    {
      "source": [
        "# calculate coefficients\n", 
        "dataset = [[1, 1], [2, 3], [4, 3], [3, 2], [5, 5]]\n", 
        "b0, b1 = coefficients(dataset)\n", 
        "print('Coefficients: B0=%.3f, B1=%.3f' % (b0, b1))"
      ], 
      "cell_type": "code", 
      "execution_count": null, 
      "outputs": [], 
      "metadata": {}
    }
  ], 
  "metadata": {
    "kernelspec": {
      "display_name": "Python 3", 
      "name": "python3", 
      "language": "python"
    }, 
    "language_info": {
      "mimetype": "text/x-python", 
      "nbconvert_exporter": "python", 
      "name": "python", 
      "file_extension": ".py", 
      "version": "3.6.1", 
      "pygments_lexer": "ipython3", 
      "codemirror_mode": {
        "version": 3, 
        "name": "ipython"
      }
    }, 
    "anaconda-cloud": {}
  }
}