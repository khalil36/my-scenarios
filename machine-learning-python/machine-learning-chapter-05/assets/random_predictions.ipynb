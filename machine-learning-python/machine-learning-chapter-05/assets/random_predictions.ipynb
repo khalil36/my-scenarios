{
  "nbformat_minor": 1, 
  "nbformat": 4, 
  "cells": [
    {
      "source": [
        "\n", 
        "# %%\n", 
        "# # Example of Making Random Predictions\n", 
        "from random import seed\n", 
        "from random import randrange\n", 
        "\n"
      ], 
      "cell_type": "code", 
      "execution_count": null, 
      "outputs": [], 
      "metadata": {}
    }, 
    {
      "source": [
        "## Random Prediction Algorithm\n", 
        "The random prediction algorithm predicts a random outcome as observed in the training data.\n", 
        "It is perhaps the simplest algorithm to implement. It requires that you store all of the distinct\n", 
        "outcome values in the training data, which could be large on regression problems with lots of\n", 
        "distinct values."
      ], 
      "cell_type": "markdown", 
      "metadata": {}
    }, 
    {
      "source": [
        "# Generate random predictions\n", 
        "def random_algorithm(train, test):\n", 
        "\toutput_values = [row[-1] for row in train]\n", 
        "\tunique = list(set(output_values))\n", 
        "\tpredicted = list()\n", 
        "\tfor _ in test:\n", 
        "\t\tindex = randrange(len(unique))\n", 
        "\t\tpredicted.append(unique[index])\n", 
        "\treturn predicted\n"
      ], 
      "cell_type": "code", 
      "execution_count": null, 
      "outputs": [], 
      "metadata": {}
    }, 
    {
      "source": [
        "Running the example calculates random predictions for the test dataset and prints those\n", 
        "predictions."
      ], 
      "cell_type": "markdown", 
      "metadata": {}
    }, 
    {
      "source": [
        "seed(1)\n", 
        "train = [[0], [1], [0], [1], [0], [1]]\n", 
        "test = [[None], [None], [None], [None]]\n", 
        "predictions = random_algorithm(train, test)\n", 
        "print(predictions)"
      ], 
      "cell_type": "code", 
      "execution_count": null, 
      "outputs": [], 
      "metadata": {}
    }
  ], 
  "metadata": {
    "kernelspec": {
      "display_name": "Python 3", 
      "name": "python3", 
      "language": "python"
    }, 
    "language_info": {
      "mimetype": "text/x-python", 
      "nbconvert_exporter": "python", 
      "name": "python", 
      "file_extension": ".py", 
      "version": "3.6.1", 
      "pygments_lexer": "ipython3", 
      "codemirror_mode": {
        "version": 3, 
        "name": "ipython"
      }
    }, 
    "anaconda-cloud": {}
  }
}