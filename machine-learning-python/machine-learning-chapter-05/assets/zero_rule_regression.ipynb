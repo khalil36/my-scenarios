{
  "nbformat_minor": 1, 
  "nbformat": 4, 
  "cells": [
    {
      "source": [
        "# Example of Zero Rule Regression Predictions\n", 
        "from random import seed\n"
      ], 
      "cell_type": "code", 
      "execution_count": null, 
      "outputs": [], 
      "metadata": {}
    }, 
    {
      "source": [
        "## Regression\n", 
        "Regression problems require the prediction of a real value. A good default prediction for real\n", 
        "values is to predict the central tendency. This could be the mean or the median. A good default\n", 
        "is to use the mean (also called the average) of the output value observed in the training data"
      ], 
      "cell_type": "markdown", 
      "metadata": {}
    }, 
    {
      "source": [
        "# zero rule algorithm for regression\n", 
        "def zero_rule_algorithm_regression(train, test):\n", 
        "\toutput_values = [row[-1] for row in train]\n", 
        "\tprediction = sum(output_values) / float(len(output_values))\n", 
        "\tpredicted = [prediction for i in range(len(test))]\n", 
        "\treturn predicted\n"
      ], 
      "cell_type": "code", 
      "execution_count": null, 
      "outputs": [], 
      "metadata": {}
    }, 
    {
      "source": [
        "Above function can be tested with a simple example. We can contrive a small dataset where\n", 
        "the mean value is known to be 15.\n", 
        "\n", 
        "Below is the complete example. We would expect that the mean value of 15 will be predicted\n", 
        "for each of the 4 rows in the test dataset"
      ], 
      "cell_type": "markdown", 
      "metadata": {}
    }, 
    {
      "source": [
        "seed(1)\n", 
        "train = [[10], [15], [12], [15], [18], [20]]\n", 
        "test = [[None], [None], [None], [None]]\n", 
        "predictions = zero_rule_algorithm_regression(train, test)\n", 
        "print(predictions)"
      ], 
      "cell_type": "code", 
      "execution_count": null, 
      "outputs": [], 
      "metadata": {}
    }
  ], 
  "metadata": {
    "kernelspec": {
      "display_name": "Python 3", 
      "name": "python3", 
      "language": "python"
    }, 
    "language_info": {
      "mimetype": "text/x-python", 
      "nbconvert_exporter": "python", 
      "name": "python", 
      "file_extension": ".py", 
      "version": "3.6.1", 
      "pygments_lexer": "ipython3", 
      "codemirror_mode": {
        "version": 3, 
        "name": "ipython"
      }
    }, 
    "anaconda-cloud": {}
  }
}