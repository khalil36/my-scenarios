{
  "nbformat_minor": 1, 
  "nbformat": 4, 
  "cells": [
    {
      "source": [
        "# Example of Zero Rule Classification Predictions\n", 
        "from random import seed\n"
      ], 
      "cell_type": "code", 
      "execution_count": null, 
      "outputs": [], 
      "metadata": {}
    }, 
    {
      "source": [
        "## Zero Rule Algorithm\n", 
        "The Zero Rule Algorithm is a better baseline than the random algorithm. It uses more\n", 
        "information about a given problem to create one rule in order to make predictions. This rule is\n", 
        "different depending on the problem type. Let\u2019s start with classification problems, predicting a\n", 
        "class label."
      ], 
      "cell_type": "markdown", 
      "metadata": {}
    }, 
    {
      "source": [
        "## Classification\n", 
        "For classification problems, the one rule is to predict the class value that is most common in\n", 
        "the training dataset. This means that if a training dataset has 90 instances of class 0 and 10\n", 
        "instances of class 1 that it will predict 0 and achieve a baseline accuracy of 90/100 or 90%.\n", 
        "This is much better than the random prediction algorithm that would only achieve 82%\n", 
        "accuracy on average. For details on how this is estimate for random search is calculated, see\n", 
        "below:<br />\n", 
        "\t\t= ((0:9 \u00d7 0:9) + (0:1 \u00d7 0:1)) \u00d7 100<br />\n", 
        "\t\t= 82% (5.1)<br />\n", 
        "Below is a function named zero rule algorithm classification() that implements this\n", 
        "for the classification case."
      ], 
      "cell_type": "markdown", 
      "metadata": {}
    }, 
    {
      "source": [
        "# zero rule algorithm for classification\n", 
        "def zero_rule_algorithm_classification(train, test):\n", 
        "\toutput_values = [row[-1] for row in train]\n", 
        "\tprediction = max(set(output_values), key=output_values.count)\n", 
        "\tpredicted = [prediction for i in range(len(test))]\n", 
        "\treturn predicted\n"
      ], 
      "cell_type": "code", 
      "execution_count": null, 
      "outputs": [], 
      "metadata": {}
    }, 
    {
      "source": [
        "Running the following example makes the predictions and prints them to screen. As expected, the\n", 
        "class value of 0 was chosen and predicted"
      ], 
      "cell_type": "markdown", 
      "metadata": {}
    }, 
    {
      "source": [
        "seed(1)\n", 
        "train = [['0'], ['0'], ['0'], ['0'], ['1'], ['1']]\n", 
        "test = [[None], [None], [None], [None]]\n", 
        "predictions = zero_rule_algorithm_classification(train, test)\n", 
        "print(predictions)"
      ], 
      "cell_type": "code", 
      "execution_count": null, 
      "outputs": [], 
      "metadata": {}
    }
  ], 
  "metadata": {
    "kernelspec": {
      "display_name": "Python 3", 
      "name": "python3", 
      "language": "python"
    }, 
    "language_info": {
      "mimetype": "text/x-python", 
      "nbconvert_exporter": "python", 
      "name": "python", 
      "file_extension": ".py", 
      "version": "3.6.1", 
      "pygments_lexer": "ipython3", 
      "codemirror_mode": {
        "version": 3, 
        "name": "ipython"
      }
    }, 
    "anaconda-cloud": {}
  }
}