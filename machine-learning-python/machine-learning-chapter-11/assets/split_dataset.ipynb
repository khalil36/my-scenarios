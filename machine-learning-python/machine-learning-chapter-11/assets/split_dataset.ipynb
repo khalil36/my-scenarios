{
  "cells": [
    {
      "cell_type": "markdown",
      "metadata": {},
      "source": [
        "## Create Split\n",
        "A split is comprised of an attribute in the dataset and a value. We can summarize this as the\n",
        "index of an attribute to split and the value by which to split rows on that attribute. This is just\n",
        "a useful shorthand for indexing into rows of data. Creating a split involves three parts, the first\n",
        "we have already looked at which is calculating the Gini score. The remaining two parts are:\n",
        "1. Splitting a Dataset.\n",
        "2. Evaluating All Splits."
      ]
    },
    {
      "cell_type": "markdown",
      "metadata": {},
      "source": [
        "## 1. Splitting a Dataset\n",
        "Splitting a dataset means separating a dataset into two lists of rows given the index of an\n",
        "attribute and a split value for that attribute. Once we have the two groups, we can then use\n",
        "our Gini score above to evaluate the cost of the split. Splitting a dataset involves iterating over\n",
        "each row, checking if the attribute value is below or above the split value and assigning it to the\n",
        "left or right group respectively. Below is a function named test split() that implements this\n",
        "procedure."
      ]
    },
    {
      "cell_type": "code",
      "metadata": {},
      "source": [
        "# Split a dataset based on an attribute and an attribute value\n",
        "def test_split(index, value, dataset):\n",
        "\tleft, right = list(), list()\n",
        "\tfor row in dataset:\n",
        "\t\tif row[index] < value:\n",
        "\t\t\tleft.append(row)\n",
        "\t\telse:\n",
        "\t\t\tright.append(row)\n",
        "\treturn left, right\n"
      ],
      "outputs": [],
      "execution_count": null
    },
    {
      "cell_type": "markdown",
      "metadata": {},
      "source": [
        "Below is a function named gini_index() that calculates the Gini index for a list of groups\n",
        "and a list of known class values. You can see that there are some safety checks in there to avoid\n",
        "a divide by zero for an empty group."
      ]
    },
    {
      "cell_type": "code",
      "metadata": {},
      "source": [
        "# Calculate the Gini index for a split dataset\n",
        "def gini_index(groups, classes):\n",
        "\t# count all samples at split point\n",
        "\tn_instances = float(sum([len(group) for group in groups]))\n",
        "\t# sum weighted Gini index for each group\n",
        "\tgini = 0.0\n",
        "\tfor group in groups:\n",
        "\t\tsize = float(len(group))\n",
        "\t\t# avoid divide by zero\n",
        "\t\tif size == 0:\n",
        "\t\t\tcontinue\n",
        "\t\tscore = 0.0\n",
        "\t\t# score the group based on the score for each class\n",
        "\t\tfor class_val in classes:\n",
        "\t\t\tp = [row[-1] for row in group].count(class_val) / size\n",
        "\t\t\tscore += p * p\n",
        "\t\t# weight the group score by its relative size\n",
        "\t\tgini += (1.0 - score) * (size / n_instances)\n",
        "\treturn gini"
      ],
      "outputs": [],
      "execution_count": null
    },
    {
      "cell_type": "markdown",
      "metadata": {},
      "source": [
        "## 2. Evaluating All Splits\n",
        "Given a dataset, we must check every value on each attribute as a candidate\n",
        "split, evaluate the cost of the split and find the best possible split we could make. Once the\n",
        "best split is found, we can use it as a node in our decision tree. <br />\n",
        "\n",
        "Each group of data is its own small dataset of just those rows assigned to the left or right\n",
        "group by the splitting process. You can imagine how we might split each group again, recursively\n",
        "as we build out our decision tree. <br />\n",
        "\n",
        "Below is a function named get split() that implements this\n",
        "procedure. You can see that it iterates over each attribute (except the class value) and then\n",
        "each value for that attribute, splitting and evaluating splits as it goes. The best split is recorded\n",
        "and then returned after all checks are complete."
      ]
    },
    {
      "cell_type": "code",
      "metadata": {},
      "source": [
        "# Select the best split point for a dataset\n",
        "def get_split(dataset):\n",
        "\tclass_values = list(set(row[-1] for row in dataset))\n",
        "\tb_index, b_value, b_score, b_groups = 999, 999, 999, None\n",
        "\tfor index in range(len(dataset[0])-1):\n",
        "\t\tfor row in dataset:\n",
        "\t\t\tgroups = test_split(index, row[index], dataset)\n",
        "\t\t\tgini = gini_index(groups, class_values)\n",
        "\t\t\tprint('X%d < %.3f Gini=%.3f' % ((index+1), row[index], gini))\n",
        "\t\t\tif gini < b_score:\n",
        "\t\t\t\tb_index, b_value, b_score, b_groups = index, row[index], gini, groups\n",
        "\treturn {'index':b_index, 'value':b_value, 'groups':b_groups}\n"
      ],
      "outputs": [],
      "execution_count": null
    },
    {
      "cell_type": "markdown",
      "metadata": {},
      "source": [
        "We can contrive a small dataset to test out this function and our whole dataset splitting\n",
        "process."
      ]
    },
    {
      "cell_type": "code",
      "metadata": {},
      "source": [
        "# Test getting the best split\n",
        "dataset = [[2.771244718,1.784783929,0],\n",
        "\t[1.728571309,1.169761413,0],\n",
        "\t[3.678319846,2.81281357,0],\n",
        "\t[3.961043357,2.61995032,0],\n",
        "\t[2.999208922,2.209014212,0],\n",
        "\t[7.497545867,3.162953546,1],\n",
        "\t[9.00220326,3.339047188,1],\n",
        "\t[7.444542326,0.476683375,1],\n",
        "\t[10.12493903,3.234550982,1],\n",
        "\t[6.642287351,3.319983761,1]]\n",
        "split = get_split(dataset)\n",
        "print('Split: [X%d < %.3f]' % ((split['index']+1), split['value']))"
      ],
      "outputs": [],
      "execution_count": null
    }
  ],
  "metadata": {
    "anaconda-cloud": {},
    "kernelspec": {
      "display_name": "Python 3",
      "language": "python",
      "name": "python3"
    },
    "language_info": {
      "codemirror_mode": {
        "name": "ipython",
        "version": 3
      },
      "file_extension": ".py",
      "mimetype": "text/x-python",
      "name": "python",
      "nbconvert_exporter": "python",
      "pygments_lexer": "ipython3",
      "version": "3.6.1"
    }
  },
  "nbformat": 4,
  "nbformat_minor": 1
}