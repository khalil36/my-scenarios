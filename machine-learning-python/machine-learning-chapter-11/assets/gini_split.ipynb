{
  "cells": [
    {
      "cell_type": "markdown",
      "metadata": {},
      "source": [
        "## Classification and Regression Trees \n",
        "CART for short is an acronym introduced by Leo Breiman\n",
        "to refer to Decision Tree algorithms that can be used for classification or regression predictive\n",
        "modeling problems. We will focus on using CART for classification in this tutorial. The\n",
        "representation of the CART model is a binary tree.<br />\n",
        "\n",
        "Creating a binary decision tree is actually a process of dividing up the input space. A greedy\n",
        "approach is used called recursive binary splitting. This is a numerical procedure where all the\n",
        "values are lined up and different split points are tried and tested using a cost function. The split\n",
        "with the best cost (lowest cost because we minimize cost) is selected.<br />\n",
        "\n",
        "- **Regression:** The cost function that is minimized to choose split points is the sum squared\n",
        "error across all training samples that fall within the rectangle.\n",
        "- **Classification:** The Gini cost function is used which provides an indication of how pure\n",
        "the nodes are, where node purity refers to how mixed the training data assigned to each\n",
        "node is."
      ]
    },
    {
      "cell_type": "markdown",
      "metadata": {},
      "source": [
        "## Gini Index\n",
        "The Gini index is the name of the cost function used to evaluate splits in the dataset. A split\n",
        "in the dataset involves one input attribute and one value for that attribute. It can be used to\n",
        "divide training patterns into two groups of rows. <br />\n",
        "A Gini score gives an idea of how good a split is by how mixed the classes are in the two\n",
        "groups created by the split. A perfect separation results in a Gini score of 0, whereas the worst case split that results in 50/50 classes in each group results \n",
        "in a Gini score of 0.5<br />"
      ]
    },
    {
      "cell_type": "markdown",
      "metadata": {},
      "source": [
        "Below is a function named gini_index() that calculates the Gini index for a list of groups\n",
        "and a list of known class values. You can see that there are some safety checks in there to avoid\n",
        "a divide by zero for an empty group."
      ]
    },
    {
      "cell_type": "code",
      "metadata": {},
      "source": [
        "# Calculate the Gini index for a split dataset\n",
        "def gini_index(groups, classes):\n",
        "\t# count all samples at split point\n",
        "\tn_instances = float(sum([len(group) for group in groups]))\n",
        "\t# sum weighted Gini index for each group\n",
        "\tgini = 0.0\n",
        "\tfor group in groups:\n",
        "\t\tsize = float(len(group))\n",
        "\t\t# avoid divide by zero\n",
        "\t\tif size == 0:\n",
        "\t\t\tcontinue\n",
        "\t\tscore = 0.0\n",
        "\t\t# score the group based on the score for each class\n",
        "\t\tfor class_val in classes:\n",
        "\t\t\tp = [row[-1] for row in group].count(class_val) / size\n",
        "\t\t\tscore += p * p\n",
        "\t\t# weight the group score by its relative size\n",
        "\t\tgini += (1.0 - score) * (size / n_instances)\n",
        "\treturn gini\n"
      ],
      "outputs": [],
      "execution_count": null
    },
    {
      "cell_type": "markdown",
      "metadata": {},
      "source": [
        "We can test above function with the following example. We can also test it for the worst\n",
        "case of a 50/50 split in each group. The complete example is listed below."
      ]
    },
    {
      "cell_type": "code",
      "metadata": {},
      "source": [
        "# Example of calculating Gini index\n",
        "print(gini_index([[[1, 1], [1, 0]], [[1, 1], [1, 0]]], [0, 1]))\n",
        "print(gini_index([[[1, 0], [1, 0]], [[1, 1], [1, 1]]], [0, 1]))\n"
      ],
      "outputs": [],
      "execution_count": null
    }
  ],
  "metadata": {
    "anaconda-cloud": {},
    "kernelspec": {
      "display_name": "Python 3",
      "language": "python",
      "name": "python3"
    },
    "language_info": {
      "codemirror_mode": {
        "name": "ipython",
        "version": 3
      },
      "file_extension": ".py",
      "mimetype": "text/x-python",
      "name": "python",
      "nbconvert_exporter": "python",
      "pygments_lexer": "ipython3",
      "version": "3.6.1"
    }
  },
  "nbformat": 4,
  "nbformat_minor": 1
}