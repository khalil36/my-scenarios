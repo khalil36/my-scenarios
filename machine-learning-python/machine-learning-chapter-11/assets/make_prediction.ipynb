{
  "cells": [
    {
      "cell_type": "markdown",
      "metadata": {},
      "source": [
        "## Make a Prediction\n",
        "Making predictions with a decision tree involves navigating the tree with the specifically provided\n",
        "row of data. Again, we can implement this using a recursive function, where the same prediction\n",
        "routine is called again with the left or the right child nodes, depending on how the split affects\n",
        "the provided data. We must check if a child node is either a terminal value to be returned as\n",
        "the prediction, or if it is a dictionary node containing another level of the tree to be considered.<br />\n",
        "\n",
        "Below is the predict() function that implements this procedure. You can see how the index\n",
        "and value in a given node is used to evaluate whether the row of provided data falls on the left\n",
        "or the right of the split."
      ]
    },
    {
      "cell_type": "code",
      "metadata": {},
      "source": [
        "# Make a prediction with a decision tree\n",
        "def predict(node, row):\n",
        "\tif row[node['index']] < node['value']:\n",
        "\t\tif isinstance(node['left'], dict):\n",
        "\t\t\treturn predict(node['left'], row)\n",
        "\t\telse:\n",
        "\t\t\treturn node['left']\n",
        "\telse:\n",
        "\t\tif isinstance(node['right'], dict):\n",
        "\t\t\treturn predict(node['right'], row)\n",
        "\t\telse:\n",
        "\t\t\treturn node['right']\n"
      ],
      "outputs": [],
      "execution_count": null
    },
    {
      "cell_type": "markdown",
      "metadata": {},
      "source": [
        "We can use our contrived dataset to test this function. Below is an example that uses a\n",
        "hard-coded decision tree with a single node that best splits the data (a decision stump). The\n",
        "example makes a prediction for each row in the dataset"
      ]
    },
    {
      "cell_type": "code",
      "metadata": {},
      "source": [
        "# contrived dataset\n",
        "dataset = [[2.771244718,1.784783929,0],\n",
        "\t[1.728571309,1.169761413,0],\n",
        "\t[3.678319846,2.81281357,0],\n",
        "\t[3.961043357,2.61995032,0],\n",
        "\t[2.999208922,2.209014212,0],\n",
        "\t[7.497545867,3.162953546,1],\n",
        "\t[9.00220326,3.339047188,1],\n",
        "\t[7.444542326,0.476683375,1],\n",
        "\t[10.12493903,3.234550982,1],\n",
        "\t[6.642287351,3.319983761,1]]\n",
        "#  predict with a stump\n",
        "stump = {'index': 0, 'right': 1, 'value': 6.642287351, 'left': 0}\n",
        "for row in dataset:\n",
        "\tprediction = predict(stump, row)\n",
        "\tprint('Expected=%d, Got=%d' % (row[-1], prediction))\n"
      ],
      "outputs": [],
      "execution_count": null
    },
    {
      "cell_type": "markdown",
      "metadata": {},
      "source": [
        "Running the example prints the correct prediction for each row, as expected"
      ]
    }
  ],
  "metadata": {
    "anaconda-cloud": {},
    "kernelspec": {
      "display_name": "Python 3",
      "language": "python",
      "name": "python3"
    },
    "language_info": {
      "codemirror_mode": {
        "name": "ipython",
        "version": 3
      },
      "file_extension": ".py",
      "mimetype": "text/x-python",
      "name": "python",
      "nbconvert_exporter": "python",
      "pygments_lexer": "ipython3",
      "version": "3.6.1"
    }
  },
  "nbformat": 4,
  "nbformat_minor": 1
}