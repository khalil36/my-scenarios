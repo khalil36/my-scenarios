{
  "cells": [
    {
      "cell_type": "markdown",
      "metadata": {},
      "source": [
        "## Naive Bayes\n",
        "Bayes Theorem provides a way that we can calculate the probability of a piece of data belonging\n",
        "to a given class, given our prior knowledge. Bayes Theorem is stated as:<br />\n",
        "P(class|data) = P(data|class) \u00c3\u2014 P(class)/ P(data)"
      ]
    },
    {
      "cell_type": "markdown",
      "metadata": {},
      "source": [
        "## Separate By Class\n",
        "We will need to calculate the probability of data by the class they belong to. This means that\n",
        "we will first need to separate our training data by class. A relatively straightforward operation.\n",
        "We can create a dictionary object where each key is the class value and then add a list of all the\n",
        "records as the value in the dictionary. Below is a function named separate_by_class() that\n",
        "implements this approach. It assumes that the last column in each row is the class value."
      ]
    },
    {
      "cell_type": "code",
      "metadata": {},
      "source": [
        "# Split the dataset by class values, returns a dictionary\n",
        "def separate_by_class(dataset):\n",
        "\tseparated = dict()\n",
        "\tfor i in range(len(dataset)):\n",
        "\t\tvector = dataset[i]\n",
        "\t\tclass_value = vector[-1]\n",
        "\t\tif (class_value not in separated):\n",
        "\t\t\tseparated[class_value] = list()\n",
        "\t\tseparated[class_value].append(vector)\n",
        "\treturn separated\n"
      ],
      "outputs": [],
      "execution_count": null
    },
    {
      "cell_type": "markdown",
      "metadata": {},
      "source": [
        "we can test our separate_by_class function on the contrived dataset.\n",
        "\n",
        "Running the example sorts observations in the dataset by their class value, then prints the\n",
        "class value followed by all identified records."
      ]
    },
    {
      "cell_type": "code",
      "metadata": {},
      "source": [
        "# Test separating data by class\n",
        "dataset = [[3.393533211,2.331273381,0],\n",
        "\t[3.110073483,1.781539638,0],\n",
        "\t[1.343808831,3.368360954,0],\n",
        "\t[3.582294042,4.67917911,0],\n",
        "\t[2.280362439,2.866990263,0],\n",
        "\t[7.423436942,4.696522875,1],\n",
        "\t[5.745051997,3.533989803,1],\n",
        "\t[9.172168622,2.511101045,1],\n",
        "\t[7.792783481,3.424088941,1],\n",
        "\t[7.939820817,0.791637231,1]]\n",
        "separated = separate_by_class(dataset)\n",
        "for label in separated:\n",
        "\tprint(label)\n",
        "\tfor row in separated[label]:\n",
        "\t\tprint(row)"
      ],
      "outputs": [],
      "execution_count": null
    }
  ],
  "metadata": {
    "anaconda-cloud": {},
    "kernelspec": {
      "display_name": "Python 3",
      "language": "python",
      "name": "python3"
    },
    "language_info": {
      "codemirror_mode": {
        "name": "ipython",
        "version": 3
      },
      "file_extension": ".py",
      "mimetype": "text/x-python",
      "name": "python",
      "nbconvert_exporter": "python",
      "pygments_lexer": "ipython3",
      "version": "3.6.1"
    }
  },
  "nbformat": 4,
  "nbformat_minor": 1
}