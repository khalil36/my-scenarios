{
  "cells": [
    {
      "cell_type": "code",
      "metadata": {},
      "source": [
        "# Example of Gaussian PDF\n",
        "from math import sqrt\n",
        "from math import pi\n",
        "from math import exp\n"
      ],
      "outputs": [],
      "execution_count": null
    },
    {
      "cell_type": "markdown",
      "metadata": {},
      "source": [
        "## Gaussian Probability Density Function\n",
        "A Gaussian distribution can be summarized using only two numbers: the mean and the\n",
        "standard deviation. Therefore, with a little math, we can estimate the probability of a given\n",
        "value. This piece of math is called a Gaussian Probability Distribution Function (or Gaussian\n",
        "PDF)"
      ]
    },
    {
      "cell_type": "code",
      "metadata": {},
      "source": [
        "# Calculate the Gaussian probability distribution function for x\n",
        "def calculate_probability(x, mean, stdev):\n",
        "\texponent = exp(-((x-mean)**2 / (2 * stdev**2 )))\n",
        "\treturn (1 / (sqrt(2 * pi) * stdev)) * exponent\n"
      ],
      "outputs": [],
      "execution_count": null
    },
    {
      "cell_type": "markdown",
      "metadata": {},
      "source": [
        "Let's test it out to see how it works. Below are some worked examples."
      ]
    },
    {
      "cell_type": "code",
      "metadata": {},
      "source": [
        "# Test Gaussian PDF\n",
        "print(calculate_probability(1.0, 1.0, 1.0))\n",
        "print(calculate_probability(2.0, 1.0, 1.0))\n",
        "print(calculate_probability(0.0, 1.0, 1.0))\n"
      ],
      "outputs": [],
      "execution_count": null
    },
    {
      "cell_type": "markdown",
      "metadata": {},
      "source": [
        "Running the example prints the probability of some input values. You can see that when the value is 1\n",
        "and the mean and standard deviation is 1 our input is the most likely (top of the bell curve) and\n",
        "has the probability of 0.39. We can see that when we keep the statistics the same and change\n",
        "the x value to 1 standard deviation either side of the mean value (2 and 0 or the same distance\n",
        "either side of the bell curve) the probabilities of those input values are the same at 0.24."
      ]
    }
  ],
  "metadata": {
    "anaconda-cloud": {},
    "kernelspec": {
      "display_name": "Python 3",
      "language": "python",
      "name": "python3"
    },
    "language_info": {
      "codemirror_mode": {
        "name": "ipython",
        "version": 3
      },
      "file_extension": ".py",
      "mimetype": "text/x-python",
      "name": "python",
      "nbconvert_exporter": "python",
      "pygments_lexer": "ipython3",
      "version": "3.6.1"
    }
  },
  "nbformat": 4,
  "nbformat_minor": 1
}