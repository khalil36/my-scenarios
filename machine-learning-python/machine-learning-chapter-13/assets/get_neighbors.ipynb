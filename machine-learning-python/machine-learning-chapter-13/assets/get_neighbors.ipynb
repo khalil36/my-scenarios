{
  "cells": [
    {
      "cell_type": "code",
      "metadata": {},
      "source": [
        "# Example of getting neighbours for an instance\n",
        "from math import sqrt\n"
      ],
      "outputs": [],
      "execution_count": null
    },
    {
      "cell_type": "markdown",
      "metadata": {},
      "source": [
        "## Get Neighbors\n",
        "Neighbors for a new piece of data in the dataset are the k closest instances, as defined by our\n",
        "distance measure. To locate the neighbors for a new piece of data within a dataset we must\n",
        "first calculate the distance between each record in the dataset to the new piece of data. We can\n",
        "do this using our distance function above. Once distances are calculated, we must sort all of the\n",
        "records in the training dataset by their distance to the new data. We can then select the top k\n",
        "to return as the most similar neighbors.<br />\n",
        "\n",
        "We can do this by keeping track of the distance for each record in the dataset as a tuple,\n",
        "sort the list of tuples by the distance (in descending order) and then retrieve the neighbors.\n",
        "Below is a function named get neighbors() that implements this."
      ]
    },
    {
      "cell_type": "code",
      "metadata": {},
      "source": [
        "# calculate the Euclidean distance between two vectors\n",
        "def euclidean_distance(row1, row2):\n",
        "\tdistance = 0.0\n",
        "\tfor i in range(len(row1)-1):\n",
        "\t\tdistance += (row1[i] - row2[i])**2\n",
        "\treturn sqrt(distance)\n"
      ],
      "outputs": [],
      "execution_count": null
    },
    {
      "cell_type": "markdown",
      "metadata": {},
      "source": [
        "You can see that the euclidean distance() function is used\n",
        "to calculate the distance between each train row and the new test row. The list of train row\n",
        "and distance tuples is sorted where a custom key is used ensuring that the second item in the\n",
        "tuple (tup[1]) is used in the sorting operation.\n",
        "Finally, a list of the num neighbors most similar neighbors to test row is returned. "
      ]
    },
    {
      "cell_type": "code",
      "metadata": {},
      "source": [
        "# Locate the most similar neighbors\n",
        "def get_neighbors(train, test_row, num_neighbors):\n",
        "\tdistances = list()\n",
        "\tfor train_row in train:\n",
        "\t\tdist = euclidean_distance(test_row, train_row)\n",
        "\t\tdistances.append((train_row, dist))\n",
        "\tdistances.sort(key=lambda tup: tup[1])\n",
        "\tneighbors = list()\n",
        "\tfor i in range(num_neighbors):\n",
        "\t\tneighbors.append(distances[i][0])\n",
        "\treturn neighbors\n"
      ],
      "outputs": [],
      "execution_count": null
    },
    {
      "cell_type": "markdown",
      "metadata": {},
      "source": [
        "Running the following example prints the 3 most similar records in the dataset to the first record, in\n",
        "order of similarity. As expected, the first record is the most similar to itself and is at the top of\n",
        "the list."
      ]
    },
    {
      "cell_type": "code",
      "metadata": {},
      "source": [
        "# Test distance function\n",
        "dataset = [[2.7810836,2.550537003,0],\n",
        "\t[1.465489372,2.362125076,0],\n",
        "\t[3.396561688,4.400293529,0],\n",
        "\t[1.38807019,1.850220317,0],\n",
        "\t[3.06407232,3.005305973,0],\n",
        "\t[7.627531214,2.759262235,1],\n",
        "\t[5.332441248,2.088626775,1],\n",
        "\t[6.922596716,1.77106367,1],\n",
        "\t[8.675418651,-0.242068655,1],\n",
        "\t[7.673756466,3.508563011,1]]\n",
        "neighbors = get_neighbors(dataset, dataset[0], 3)\n",
        "for neighbor in neighbors:\n",
        "\tprint(neighbor)"
      ],
      "outputs": [],
      "execution_count": null
    }
  ],
  "metadata": {
    "anaconda-cloud": {},
    "kernelspec": {
      "display_name": "Python 3",
      "language": "python",
      "name": "python3"
    },
    "language_info": {
      "codemirror_mode": {
        "name": "ipython",
        "version": 3
      },
      "file_extension": ".py",
      "mimetype": "text/x-python",
      "name": "python",
      "nbconvert_exporter": "python",
      "pygments_lexer": "ipython3",
      "version": "3.6.1"
    }
  },
  "nbformat": 4,
  "nbformat_minor": 1
}