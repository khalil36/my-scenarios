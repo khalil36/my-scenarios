{
  "nbformat_minor": 1, 
  "nbformat": 4, 
  "cells": [
    {
      "source": [
        "## Logistic Regression\n", 
        "Logistic regression is named for the function used at the core of the method, the logistic function.\n", 
        "Logistic regression uses an equation as the representation, very much like linear regression.\n", 
        "Input values (X) are combined linearly using weights or coefficient values to predict an output\n", 
        "value (y). A key difference from linear regression is that the output value being modeled is a\n", 
        "binary value (0 or 1) rather than a numeric value."
      ], 
      "cell_type": "markdown", 
      "metadata": {}
    }, 
    {
      "source": [
        "# Example of making a prediction\n", 
        "from math import exp\n"
      ], 
      "cell_type": "code", 
      "execution_count": null, 
      "outputs": [], 
      "metadata": {}
    }, 
    {
      "source": [
        "## Making Predictions\n", 
        "The first step is to develop a function that can make predictions. This will be needed both\n", 
        "in the evaluation of candidate coefficient values in stochastic gradient descent and after the\n", 
        "model is finalized and we wish to start making predictions on test data or new data. Below is a\n", 
        "function named predict() that predicts an output value for a row given a set of coefficients.\n", 
        "The first coefficient in is always the intercept, also called the bias or b0 as it is standalone and\n", 
        "not responsible for a specific input value."
      ], 
      "cell_type": "markdown", 
      "metadata": {}
    }, 
    {
      "source": [
        "# Make a prediction with coefficients\n", 
        "def predict(row, coefficients):\n", 
        "\tyhat = coefficients[0]\n", 
        "\tfor i in range(len(row)-1):\n", 
        "\t\tyhat += coefficients[i + 1] * row[i]\n", 
        "\treturn 1.0 / (1.0 + exp(-yhat))\n", 
        "\n"
      ], 
      "cell_type": "code", 
      "execution_count": null, 
      "outputs": [], 
      "metadata": {}
    }, 
    {
      "source": [
        "There are two inputs values (X1 and X2) and three coefficient values (b0, b1 and b2).\n", 
        "Running the following snippet will give predictions that are reasonably close to the expected output\n", 
        "(y) values and when rounded make correct predictions of the class."
      ], 
      "cell_type": "markdown", 
      "metadata": {}
    }, 
    {
      "source": [
        "# test predictions\n", 
        "dataset = [[2.7810836,2.550537003,0],\n", 
        "\t[1.465489372,2.362125076,0],\n", 
        "\t[3.396561688,4.400293529,0],\n", 
        "\t[1.38807019,1.850220317,0],\n", 
        "\t[3.06407232,3.005305973,0],\n", 
        "\t[7.627531214,2.759262235,1],\n", 
        "\t[5.332441248,2.088626775,1],\n", 
        "\t[6.922596716,1.77106367,1],\n", 
        "\t[8.675418651,-0.242068655,1],\n", 
        "\t[7.673756466,3.508563011,1]]\n", 
        "coef = [-0.406605464, 0.852573316, -1.104746259]\n", 
        "for row in dataset:\n", 
        "\tyhat = predict(row, coef)\n", 
        "\tprint(\"Expected=%.3f, Predicted=%.3f [%d]\" % (row[-1], yhat, round(yhat)))"
      ], 
      "cell_type": "code", 
      "execution_count": null, 
      "outputs": [], 
      "metadata": {}
    }
  ], 
  "metadata": {
    "kernelspec": {
      "display_name": "Python 3", 
      "name": "python3", 
      "language": "python"
    }, 
    "language_info": {
      "mimetype": "text/x-python", 
      "nbconvert_exporter": "python", 
      "name": "python", 
      "file_extension": ".py", 
      "version": "3.6.1", 
      "pygments_lexer": "ipython3", 
      "codemirror_mode": {
        "version": 3, 
        "name": "ipython"
      }
    }, 
    "anaconda-cloud": {}
  }
}