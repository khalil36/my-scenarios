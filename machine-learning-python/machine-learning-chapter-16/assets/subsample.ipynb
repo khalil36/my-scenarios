{
  "cells": [
    {
      "cell_type": "code",
      "metadata": {},
      "source": [
        "# Example of subsampling a dataste\n",
        "from random import seed\n",
        "from random import randrange\n"
      ],
      "outputs": [],
      "execution_count": null
    },
    {
      "cell_type": "markdown",
      "metadata": {},
      "source": [
        "## Bootstrap Resample\n",
        "Let's start off by getting a strong idea of how the bootstrap method works. We can create a\n",
        "new sample of a dataset by randomly selecting rows from the dataset and adding them to a new\n",
        "list. We can repeat this for a fixed number of rows or until the size of the new dataset matches\n",
        "a ratio of the size of the original dataset.\n",
        "\n",
        "We can allow sampling with replacement by not removing the row that was selected so that\n",
        "it is available for future selections. Below is a function named subsample() that implements\n",
        "this procedure. The randrange() function from the random module is used to select a random\n",
        "row index to add to the sample each iteration of the loop. The default size of the sample is the\n",
        "size of the original dataset."
      ]
    },
    {
      "cell_type": "code",
      "metadata": {},
      "source": [
        "# Create a random subsample from the dataset with replacement\n",
        "def subsample(dataset, ratio=1.0):\n",
        "\tsample = list()\n",
        "\tn_sample = round(len(dataset) * ratio)\n",
        "\twhile len(sample) < n_sample:\n",
        "\t\tindex = randrange(len(dataset))\n",
        "\t\tsample.append(dataset[index])\n",
        "\treturn sample\n",
        "\n",
        "# Calculate the mean of a list of numbers\n",
        "def mean(numbers):\n",
        "\treturn sum(numbers) / float(len(numbers))\n"
      ],
      "outputs": [],
      "execution_count": null
    },
    {
      "cell_type": "markdown",
      "metadata": {},
      "source": [
        "We can use this function to estimate the mean of a contrived dataset. First, we can create a\n",
        "dataset with 20 rows and a single column of random numbers between 0 and 9 and calculate the16.2. Tutorial 178\n",
        "mean value. We can then make bootstrap samples of the original dataset, calculate the mean,\n",
        "and repeat this process until we have a list of means. Taking the average of these sample means\n",
        "should give us a robust estimate of the mean of the entire dataset.\n",
        "\n",
        "Each bootstrap sample is created as a 10% sample of\n",
        "the original 20 observation dataset (or 2 observations). We then experiment by creating 1, 10,\n",
        "100 bootstrap samples of the original dataset, calculate their mean value, then average all of\n",
        "those estimated mean values"
      ]
    },
    {
      "cell_type": "code",
      "metadata": {},
      "source": [
        "# Test subsampling a dataset\n",
        "seed(1)\n",
        "# True mean\n",
        "dataset = [[randrange(10)] for i in range(20)]\n",
        "print('True Mean: %.3f' % mean([row[0] for row in dataset]))\n",
        "# Estimated means\n",
        "ratio = 0.10\n",
        "for size in [1, 10, 100]:\n",
        "\tsample_means = list()\n",
        "\tfor i in range(size):\n",
        "\t\tsample = subsample(dataset, ratio)\n",
        "\t\tsample_mean = mean([row[0] for row in sample])\n",
        "\t\tsample_means.append(sample_mean)\n",
        "\tprint('Samples=%d, Estimated Mean: %.3f' % (size, mean(sample_means)))"
      ],
      "outputs": [],
      "execution_count": null
    },
    {
      "cell_type": "markdown",
      "metadata": {},
      "source": [
        "Running the above example prints the original mean value we aim to estimate. We can then see\n",
        "the estimated mean from the various different numbers of bootstrap samples. We can see that\n",
        "with 100 samples we achieve a good estimate of the mean."
      ]
    }
  ],
  "metadata": {
    "anaconda-cloud": {},
    "kernelspec": {
      "display_name": "Python 3",
      "language": "python",
      "name": "python3"
    },
    "language_info": {
      "codemirror_mode": {
        "name": "ipython",
        "version": 3
      },
      "file_extension": ".py",
      "mimetype": "text/x-python",
      "name": "python",
      "nbconvert_exporter": "python",
      "pygments_lexer": "ipython3",
      "version": "3.6.1"
    }
  },
  "nbformat": 4,
  "nbformat_minor": 1
}