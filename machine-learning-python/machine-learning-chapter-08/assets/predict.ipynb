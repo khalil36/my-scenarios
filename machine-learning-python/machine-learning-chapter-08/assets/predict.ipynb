{
  "cells": [
    {
      "cell_type": "markdown",
      "metadata": {},
      "source": [
        "## Making Predictions\n",
        "The first step is to develop a function that can make predictions. This will be needed both\n",
        "in the evaluation of candidate coefficient values in stochastic gradient descent and after the\n",
        "model is finalized and we wish to start making predictions on test data or new data. <br />\n",
        "Below is a function named predict() that predicts an output value for a row given a set of coefficients.\n",
        "The first coefficient in is always the intercept, also called the bias or b0 as it is standalone and\n",
        "not responsible for a specific input value."
      ]
    },
    {
      "cell_type": "code",
      "metadata": {},
      "source": [
        "# Make a prediction\n",
        "def predict(row, coefficients):\n",
        "\tyhat = coefficients[0]\n",
        "\tfor i in range(len(row)-1):\n",
        "\t\tyhat += coefficients[i + 1] * row[i]\n",
        "\treturn yhat\n",
        "\n",
        "dataset = [[1, 1], [2, 3], [4, 3], [3, 2], [5, 5]]\n",
        "coef = [0.4, 0.8]\n",
        "for row in dataset:\n",
        "\tyhat = predict(row, coef)\n",
        "\tprint(\"Expected=%.3f, Predicted=%.3f\" % (row[-1], yhat))"
      ],
      "outputs": [],
      "execution_count": null
    }
  ],
  "metadata": {
    "anaconda-cloud": {},
    "kernelspec": {
      "display_name": "Python 3",
      "language": "python",
      "name": "python3"
    },
    "language_info": {
      "codemirror_mode": {
        "name": "ipython",
        "version": 3
      },
      "file_extension": ".py",
      "mimetype": "text/x-python",
      "name": "python",
      "nbconvert_exporter": "python",
      "pygments_lexer": "ipython3",
      "version": "3.6.1"
    }
  },
  "nbformat": 4,
  "nbformat_minor": 1
}