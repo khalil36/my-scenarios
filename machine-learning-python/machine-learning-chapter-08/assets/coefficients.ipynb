{
  "cells": [
    {
      "cell_type": "markdown",
      "metadata": {},
      "source": [
        "## Estimating Coefficients\n",
        "We can estimate the coefficient values for our training data using stochastic gradient descent.\n",
        "Stochastic gradient descent requires two parameters:<br />\n",
        "- **Learning Rate:** Used to limit the amount that each coefficient is corrected each time it\n",
        "is updated.\n",
        "- **Epochs:** The number of times to run through the training data while updating the\n",
        "coefficients."
      ]
    },
    {
      "cell_type": "code",
      "metadata": {},
      "source": [
        "# Make a prediction\n",
        "def predict(row, coefficients):\n",
        "\tyhat = coefficients[0]\n",
        "\tfor i in range(len(row)-1):\n",
        "\t\tyhat += coefficients[i + 1] * row[i]\n",
        "\treturn yhat\n",
        "\n"
      ],
      "outputs": [],
      "execution_count": null
    },
    {
      "cell_type": "markdown",
      "metadata": {},
      "source": [
        "Below is a function named coefficients sgd() that calculates coefficient values for a training dataset\n",
        "using stochastic gradient descent."
      ]
    },
    {
      "cell_type": "code",
      "metadata": {},
      "source": [
        "# Estimate linear regression coefficients using stochastic gradient descent\n",
        "def coefficients_sgd(train, l_rate, n_epoch):\n",
        "\tcoef = [0.0 for i in range(len(train[0]))]\n",
        "\tfor epoch in range(n_epoch):\n",
        "\t\tsum_error = 0\n",
        "\t\tfor row in train:\n",
        "\t\t\tyhat = predict(row, coef)\n",
        "\t\t\terror = yhat - row[-1]\n",
        "\t\t\tsum_error += error**2\n",
        "\t\t\tcoef[0] = coef[0] - l_rate * error\n",
        "\t\t\tfor i in range(len(row)-1):\n",
        "\t\t\t\tcoef[i + 1] = coef[i + 1] - l_rate * error * row[i]\n",
        "\t\tprint('>epoch=%d, lrate=%.3f, error=%.3f' % (epoch, l_rate, sum_error))\n",
        "\treturn coef\n"
      ],
      "outputs": [],
      "execution_count": null
    },
    {
      "cell_type": "markdown",
      "metadata": {},
      "source": [
        "We will use a small learning rate of 0.001 and train the model for 50 epochs, or 50 exposures\n",
        "of the coefficients to the entire training dataset. Running the example below prints a message each\n",
        "epoch with the sum squared error for that epoch and the final set of coefficients."
      ]
    },
    {
      "cell_type": "code",
      "metadata": {},
      "source": [
        "# Calculate coefficients\n",
        "dataset = [[1, 1], [2, 3], [4, 3], [3, 2], [5, 5]]\n",
        "l_rate = 0.001\n",
        "n_epoch = 50\n",
        "coef = coefficients_sgd(dataset, l_rate, n_epoch)\n",
        "print(coef)\n"
      ],
      "outputs": [],
      "execution_count": null
    },
    {
      "cell_type": "markdown",
      "metadata": {},
      "source": [
        "You can see how error continues to drop even in the final epoch. We could probably train for\n",
        "a lot longer (more epochs) or increase the amount we update the coefficients each epoch (higher\n",
        "learning rate)."
      ]
    }
  ],
  "metadata": {
    "anaconda-cloud": {},
    "kernelspec": {
      "display_name": "Python 3",
      "language": "python",
      "name": "python3"
    },
    "language_info": {
      "codemirror_mode": {
        "name": "ipython",
        "version": 3
      },
      "file_extension": ".py",
      "mimetype": "text/x-python",
      "name": "python",
      "nbconvert_exporter": "python",
      "pygments_lexer": "ipython3",
      "version": "3.6.1"
    }
  },
  "nbformat": 4,
  "nbformat_minor": 1
}