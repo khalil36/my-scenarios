{
  "cells": [
    {
      "cell_type": "code",
      "metadata": {},
      "source": [
        "# Example of making predictions\n",
        "from math import exp"
      ],
      "outputs": [],
      "execution_count": null
    },
    {
      "cell_type": "markdown",
      "metadata": {},
      "source": [
        "## Forward-Propagate\n",
        "We can calculate an output from a neural network by propagating an input signal through\n",
        "each layer until the output layer outputs its values. We call this forward-propagation. It is the\n",
        "technique we will need to generate predictions during training that will need to be corrected,\n",
        "and it is the method we will need after the network is trained to make predictions on new data.\n",
        "\n",
        "We can break forward-propagation down into three parts:\n",
        "1. Neuron Activation.\n",
        "2. Neuron Transfer.\n",
        "3. Forward-Propagation."
      ]
    },
    {
      "cell_type": "code",
      "metadata": {},
      "source": [
        "# Calculate neuron activation for an input\n",
        "def activate(weights, inputs):\n",
        "\tactivation = weights[-1]\n",
        "\tfor i in range(len(weights)-1):\n",
        "\t\tactivation += weights[i] * inputs[i]\n",
        "\treturn activation\n",
        "\n",
        "# Transfer neuron activation\n",
        "def transfer(activation):\n",
        "\treturn 1.0 / (1.0 + exp(-activation))\n",
        "\n",
        "# Forward propagate input to a network output\n",
        "def forward_propagate(network, row):\n",
        "\tinputs = row\n",
        "\tfor layer in network:\n",
        "\t\tnew_inputs = []\n",
        "\t\tfor neuron in layer:\n",
        "\t\t\tactivation = activate(neuron['weights'], inputs)\n",
        "\t\t\tneuron['output'] = transfer(activation)\n",
        "\t\t\tnew_inputs.append(neuron['output'])\n",
        "\t\tinputs = new_inputs\n",
        "\treturn inputs\n"
      ],
      "outputs": [],
      "execution_count": null
    },
    {
      "cell_type": "markdown",
      "metadata": {},
      "source": [
        "## Predict\n",
        "Making predictions with a trained neural network is easy enough. We have already seen how\n",
        "to forward-propagate an input pattern to get an output. This is all we need to do to make a\n",
        "prediction. We can use the output values themselves directly as the probability of a pattern\n",
        "belonging to each output class.<br />\n",
        "\n",
        "It may be more useful to turn this output back into a crisp class prediction. We can do this\n",
        "by selecting the class value with the larger probability. This is also called the arg max function.\n",
        "Below is a function named predict() that implements this procedure. It returns the index in\n",
        "the network output that has the largest probability. It assumes that class values have been\n",
        "converted to integers starting at 0."
      ]
    },
    {
      "cell_type": "code",
      "metadata": {},
      "source": [
        "# Make a prediction with a network\n",
        "def predict(network, row):\n",
        "\toutputs = forward_propagate(network, row)\n",
        "\treturn outputs.index(max(outputs))\n"
      ],
      "outputs": [],
      "execution_count": null
    },
    {
      "cell_type": "markdown",
      "metadata": {},
      "source": [
        "We can use the above predict() function with our code above for forward-propagating input and with\n",
        "our small contrived dataset to test making predictions with an already-trained network. The\n",
        "example hardcodes a network trained from the previous step. The complete example is listed below."
      ]
    },
    {
      "cell_type": "code",
      "metadata": {},
      "source": [
        "# Test making predictions with the network\n",
        "dataset = [[2.7810836,2.550537003,0],\n",
        "\t[1.465489372,2.362125076,0],\n",
        "\t[3.396561688,4.400293529,0],\n",
        "\t[1.38807019,1.850220317,0],\n",
        "\t[3.06407232,3.005305973,0],\n",
        "\t[7.627531214,2.759262235,1],\n",
        "\t[5.332441248,2.088626775,1],\n",
        "\t[6.922596716,1.77106367,1],\n",
        "\t[8.675418651,-0.242068655,1],\n",
        "\t[7.673756466,3.508563011,1]]\n",
        "network = [[{'weights': [-1.482313569067226, 1.8308790073202204, 1.078381922048799]}, {'weights': [0.23244990332399884, 0.3621998343835864, 0.40289821191094327]}],\n",
        "\t[{'weights': [2.5001872433501404, 0.7887233511355132, -1.1026649757805829]}, {'weights': [-2.429350576245497, 0.8357651039198697, 1.0699217181280656]}]]\n",
        "for row in dataset:\n",
        "\tprediction = predict(network, row)\n",
        "\tprint('Expected=%d, Got=%d' % (row[-1], prediction))\n"
      ],
      "outputs": [],
      "execution_count": null
    },
    {
      "cell_type": "markdown",
      "metadata": {},
      "source": [
        "Running the example prints the expected output for each record in the training dataset,\n",
        "followed by the crisp prediction made by the network. It shows that the network achieves 100%\n",
        "accuracy on this small dataset"
      ]
    }
  ],
  "metadata": {
    "anaconda-cloud": {},
    "kernelspec": {
      "display_name": "Python 3",
      "language": "python",
      "name": "python3"
    },
    "language_info": {
      "codemirror_mode": {
        "name": "ipython",
        "version": 3
      },
      "file_extension": ".py",
      "mimetype": "text/x-python",
      "name": "python",
      "nbconvert_exporter": "python",
      "pygments_lexer": "ipython3",
      "version": "3.6.1"
    }
  },
  "nbformat": 4,
  "nbformat_minor": 1
}