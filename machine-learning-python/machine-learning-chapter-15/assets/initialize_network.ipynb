{
  "cells": [
    {
      "cell_type": "code",
      "metadata": {},
      "source": [
        "# Example of initializing a network\n",
        "from random import seed\n",
        "from random import random\n"
      ],
      "outputs": [],
      "execution_count": null
    },
    {
      "cell_type": "markdown",
      "metadata": {},
      "source": [
        "## Initialize Network\n",
        "Below is a function named initialize_network() that creates a new neural network ready\n",
        "for training. It accepts three parameters: the number of inputs, the number of neurons to have\n",
        "in the hidden layer and the number of outputs. You can see that for the hidden layer we create\n",
        "n hidden neurons and each neuron in the hidden layer has n inputs + 1 weights, one for each\n",
        "input column in a dataset and an additional one for the bias.\n",
        "\n",
        "You can also see that the output layer that connects to the hidden layer has n outputs\n",
        "neurons, each with n hidden + 1 weights. This means that each neuron in the output layer\n",
        "connects to (has a weight for) each neuron in the hidden layer"
      ]
    },
    {
      "cell_type": "code",
      "metadata": {},
      "source": [
        "# Initialize a network\n",
        "def initialize_network(n_inputs, n_hidden, n_outputs):\n",
        "\tnetwork = list()\n",
        "\thidden_layer = [{'weights':[random() for i in range(n_inputs + 1)]} for i in range(n_hidden)]\n",
        "\tnetwork.append(hidden_layer)\n",
        "\toutput_layer = [{'weights':[random() for i in range(n_hidden + 1)]} for i in range(n_outputs)]\n",
        "\tnetwork.append(output_layer)\n",
        "\treturn network\n"
      ],
      "outputs": [],
      "execution_count": null
    },
    {
      "cell_type": "markdown",
      "metadata": {},
      "source": [
        "Let's test out above function. Below is a complete example that creates a small network.<br />\n",
        "\n",
        "Running the example, you can see that the code prints out each layer one by one. You can\n",
        "see the hidden layer has one neuron with 2 input weights plus the bias. The output layer has 2\n",
        "neurons, each with 1 weight plus the bias."
      ]
    },
    {
      "cell_type": "code",
      "metadata": {},
      "source": [
        "# Test initializing a network\n",
        "seed(1)\n",
        "network = initialize_network(2, 1, 2)\n",
        "for layer in network:\n",
        "\tprint(layer)"
      ],
      "outputs": [],
      "execution_count": null
    }
  ],
  "metadata": {
    "anaconda-cloud": {},
    "kernelspec": {
      "display_name": "Python 3",
      "language": "python",
      "name": "python3"
    },
    "language_info": {
      "codemirror_mode": {
        "name": "ipython",
        "version": 3
      },
      "file_extension": ".py",
      "mimetype": "text/x-python",
      "name": "python",
      "nbconvert_exporter": "python",
      "pygments_lexer": "ipython3",
      "version": "3.6.1"
    }
  },
  "nbformat": 4,
  "nbformat_minor": 1
}