{
  "nbformat_minor": 1, 
  "nbformat": 4, 
  "cells": [
    {
      "source": [
        "## Normalize Data\n", 
        "Normalization can refer to different techniques depending on context. Here, we use normalization\n", 
        "to refer to rescaling an input variable to the range between 0 and 1. Normalization requires\n", 
        "that you know the minimum and maximum values for each attribute."
      ], 
      "cell_type": "markdown", 
      "metadata": {}
    }, 
    {
      "source": [
        "# Find the min and max values for each column\n", 
        "def dataset_minmax(dataset):\n", 
        "\tminmax = list()\n", 
        "\tfor i in range(len(dataset[0])):\n", 
        "\t\tcol_values = [row[i] for row in dataset]\n", 
        "\t\tvalue_min = min(col_values)\n", 
        "\t\tvalue_max = max(col_values)\n", 
        "\t\tminmax.append([value_min, value_max])\n", 
        "\treturn minmax"
      ], 
      "cell_type": "code", 
      "execution_count": null, 
      "outputs": [], 
      "metadata": {}
    }, 
    {
      "source": [
        "Below is an implementation of this in a function called normalize dataset() that normalizes\n", 
        "values in each column of a provided dataset."
      ], 
      "cell_type": "markdown", 
      "metadata": {}
    }, 
    {
      "source": [
        "# Rescale dataset columns to the range 0-1\n", 
        "def normalize_dataset(dataset, minmax):\n", 
        "\tfor row in dataset:\n", 
        "\t\tfor i in range(len(row)):\n", 
        "\t\t\trow[i] = (row[i] - minmax[i][0]) / (minmax[i][1] - minmax[i][0])"
      ], 
      "cell_type": "code", 
      "execution_count": null, 
      "outputs": [], 
      "metadata": {}
    }, 
    {
      "source": [
        "We can tie normalize_dataset function together with the dataset minmax() function and normalize the\n", 
        "contrived dataset"
      ], 
      "cell_type": "markdown", 
      "metadata": {}
    }, 
    {
      "source": [
        "# Contrive small dataset\n", 
        "dataset = [[50, 30], [20, 90]]\n", 
        "print(dataset)\n", 
        "# Calculate min and max for each column\n", 
        "minmax = dataset_minmax(dataset)\n", 
        "print(minmax)\n", 
        "# Normalize columns\n", 
        "normalize_dataset(dataset, minmax)\n", 
        "print(dataset)"
      ], 
      "cell_type": "code", 
      "execution_count": null, 
      "outputs": [], 
      "metadata": {}
    }
  ], 
  "metadata": {
    "kernelspec": {
      "display_name": "Python 3", 
      "name": "python3", 
      "language": "python"
    }, 
    "language_info": {
      "mimetype": "text/x-python", 
      "nbconvert_exporter": "python", 
      "name": "python", 
      "file_extension": ".py", 
      "version": "3.6.1", 
      "pygments_lexer": "ipython3", 
      "codemirror_mode": {
        "version": 3, 
        "name": "ipython"
      }
    }, 
    "anaconda-cloud": {}
  }
}