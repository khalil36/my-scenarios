{
  "nbformat_minor": 1, 
  "nbformat": 4, 
  "cells": [
    {
      "source": [
        "# Example of normalizing the diabetes dataset\n", 
        "from csv import reader\n", 
        "\n", 
        "# Load a CSV file\n", 
        "def load_csv(filename):\n", 
        "\tdataset = list()\n", 
        "\twith open(filename, 'r') as file:\n", 
        "\t\tcsv_reader = reader(file)\n", 
        "\t\tfor row in csv_reader:\n", 
        "\t\t\tif not row:\n", 
        "\t\t\t\tcontinue\n", 
        "\t\t\tdataset.append(row)\n", 
        "\treturn dataset"
      ], 
      "cell_type": "code", 
      "execution_count": null, 
      "outputs": [], 
      "metadata": {}
    }, 
    {
      "source": [
        "# Convert string column to float\n", 
        "def str_column_to_float(dataset, column):\n", 
        "\tfor row in dataset:\n", 
        "\t\trow[column] = float(row[column].strip())"
      ], 
      "cell_type": "code", 
      "execution_count": null, 
      "outputs": [], 
      "metadata": {}
    }, 
    {
      "source": [
        "Normalize Data\n", 
        "You can easily estimate the minimum and maximum values for each\n", 
        "attribute in a dataset by enumerating through the values. The snippet of code below defines\n", 
        "the dataset minmax() function that calculates the min and max value for each attribute in a\n", 
        "dataset, then returns an array of these minimum and maximum values."
      ], 
      "cell_type": "markdown", 
      "metadata": {}
    }, 
    {
      "source": [
        "# Find the min and max values for each column\n", 
        "def dataset_minmax(dataset):\n", 
        "\tminmax = list()\n", 
        "\tfor i in range(len(dataset[0])):\n", 
        "\t\tcol_values = [row[i] for row in dataset]\n", 
        "\t\tvalue_min = min(col_values)\n", 
        "\t\tvalue_max = max(col_values)\n", 
        "\t\tminmax.append([value_min, value_max])\n", 
        "\treturn minmax"
      ], 
      "cell_type": "code", 
      "execution_count": null, 
      "outputs": [], 
      "metadata": {}
    }, 
    {
      "source": [
        "Below is an implementation of this in a function called normalize dataset() that normalizes\n", 
        "values in each column of a provided dataset."
      ], 
      "cell_type": "markdown", 
      "metadata": {}
    }, 
    {
      "source": [
        "# Rescale dataset columns to the range 0-1\n", 
        "def normalize_dataset(dataset, minmax):\n", 
        "\tfor row in dataset:\n", 
        "\t\tfor i in range(len(row)):\n", 
        "\t\t\trow[i] = (row[i] - minmax[i][0]) / (minmax[i][1] - minmax[i][0])\n"
      ], 
      "cell_type": "code", 
      "execution_count": null, 
      "outputs": [], 
      "metadata": {}
    }, 
    {
      "source": [
        "We can now load and normalize the Pima Indians Diabetes dataset. The example first loads the dataset and converts the values for\n", 
        "each column from string to floating point values. The minimum and maximum values for each\n", 
        "column are estimated from the dataset, and finally, the values in the dataset are normalized"
      ], 
      "cell_type": "markdown", 
      "metadata": {}
    }, 
    {
      "source": [
        "# Load pima-indians-diabetes dataset\n", 
        "filename = 'pima-indians-diabetes.csv'\n", 
        "dataset = load_csv(filename)\n", 
        "print('Loaded data file {0} with {1} rows and {2} columns'.format(filename, len(dataset), len(dataset[0])))\n", 
        "# convert string columns to float\n", 
        "for i in range(len(dataset[0])):\n", 
        "\tstr_column_to_float(dataset, i)\n", 
        "print(dataset[0])\n", 
        "# Calculate min and max for each column\n", 
        "minmax = dataset_minmax(dataset)\n", 
        "# Normalize columns\n", 
        "normalize_dataset(dataset, minmax)\n", 
        "print(dataset[0])"
      ], 
      "cell_type": "code", 
      "execution_count": null, 
      "outputs": [], 
      "metadata": {}
    }
  ], 
  "metadata": {
    "kernelspec": {
      "display_name": "Python 3", 
      "name": "python3", 
      "language": "python"
    }, 
    "language_info": {
      "mimetype": "text/x-python", 
      "nbconvert_exporter": "python", 
      "name": "python", 
      "file_extension": ".py", 
      "version": "3.6.1", 
      "pygments_lexer": "ipython3", 
      "codemirror_mode": {
        "version": 3, 
        "name": "ipython"
      }
    }, 
    "anaconda-cloud": {}
  }
}